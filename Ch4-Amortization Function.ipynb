{
 "cells": [
  {
   "cell_type": "markdown",
   "metadata": {},
   "source": [
    "## Chapter 4: Amortization"
   ]
  },
  {
   "cell_type": "markdown",
   "metadata": {},
   "source": [
    "P = Payment per period\n",
    "r = Rate per period\n",
    "n = Number of periods\n",
    "PV = Number of periods"
   ]
  },
  {
   "cell_type": "markdown",
   "metadata": {},
   "source": [
    "Calculate amortization P = r(PV) / (1 - (1 + r)^-n)"
   ]
  },
  {
   "cell_type": "code",
   "execution_count": 2,
   "metadata": {
    "collapsed": true
   },
   "outputs": [],
   "source": [
    "loan = 3000.00\n",
    "rate = 0.0575\n",
    "term = 14"
   ]
  },
  {
   "cell_type": "code",
   "execution_count": 3,
   "metadata": {
    "collapsed": false
   },
   "outputs": [
    {
     "name": "stdout",
     "output_type": "stream",
     "text": [
      "222.07\n"
     ]
    }
   ],
   "source": [
    "payment = loan * (rate / 12) / (1 - (1 + (rate / 12)) ** (-term))\n",
    "print(round(payment, 2))"
   ]
  },
  {
   "cell_type": "markdown",
   "metadata": {},
   "source": [
    "Use built in numpy functions"
   ]
  },
  {
   "cell_type": "code",
   "execution_count": 4,
   "metadata": {
    "collapsed": false
   },
   "outputs": [
    {
     "name": "stdout",
     "output_type": "stream",
     "text": [
      "222.07\n"
     ]
    }
   ],
   "source": [
    "import numpy as np\n",
    "payment = np.round(-np.pmt(rate/12, term, loan), 2)\n",
    "print(payment)"
   ]
  },
  {
   "cell_type": "markdown",
   "metadata": {},
   "source": [
    "Build amortization schedule on dataframe"
   ]
  },
  {
   "cell_type": "code",
   "execution_count": 5,
   "metadata": {
    "collapsed": false
   },
   "outputs": [
    {
     "name": "stdout",
     "output_type": "stream",
     "text": [
      "   balance  interest  month  payment\n",
      "0   3000.0       NaN      0      NaN\n"
     ]
    }
   ],
   "source": [
    "import pandas as pd\n",
    "\n",
    "balance = loan\n",
    "df = pd.DataFrame({\n",
    "        'month': [0],\n",
    "        'payment': [np.NaN],\n",
    "        'interest': [np.NaN],\n",
    "        'balance': [balance]\n",
    "    })\n",
    "print(df)"
   ]
  },
  {
   "cell_type": "code",
   "execution_count": 6,
   "metadata": {
    "collapsed": true
   },
   "outputs": [],
   "source": [
    "interest = round(rate/12 * balance, 2)\n",
    "principal = payment - interest\n",
    "balance = balance - principal"
   ]
  },
  {
   "cell_type": "code",
   "execution_count": 7,
   "metadata": {
    "collapsed": false
   },
   "outputs": [
    {
     "name": "stdout",
     "output_type": "stream",
     "text": [
      "14.38\n",
      "207.69\n",
      "2792.31\n"
     ]
    }
   ],
   "source": [
    "print(interest)\n",
    "print(principal)\n",
    "print(balance)"
   ]
  },
  {
   "cell_type": "code",
   "execution_count": 8,
   "metadata": {
    "collapsed": false
   },
   "outputs": [
    {
     "data": {
      "text/html": [
       "<div>\n",
       "<style>\n",
       "    .dataframe thead tr:only-child th {\n",
       "        text-align: right;\n",
       "    }\n",
       "\n",
       "    .dataframe thead th {\n",
       "        text-align: left;\n",
       "    }\n",
       "\n",
       "    .dataframe tbody tr th {\n",
       "        vertical-align: top;\n",
       "    }\n",
       "</style>\n",
       "<table border=\"1\" class=\"dataframe\">\n",
       "  <thead>\n",
       "    <tr style=\"text-align: right;\">\n",
       "      <th></th>\n",
       "      <th>month</th>\n",
       "      <th>payment</th>\n",
       "      <th>interest</th>\n",
       "      <th>principal</th>\n",
       "      <th>balance</th>\n",
       "    </tr>\n",
       "  </thead>\n",
       "  <tbody>\n",
       "    <tr>\n",
       "      <th>0</th>\n",
       "      <td>0</td>\n",
       "      <td>NaN</td>\n",
       "      <td>NaN</td>\n",
       "      <td>NaN</td>\n",
       "      <td>3000.00</td>\n",
       "    </tr>\n",
       "    <tr>\n",
       "      <th>1</th>\n",
       "      <td>1</td>\n",
       "      <td>222.07</td>\n",
       "      <td>14.38</td>\n",
       "      <td>207.69</td>\n",
       "      <td>2792.31</td>\n",
       "    </tr>\n",
       "    <tr>\n",
       "      <th>2</th>\n",
       "      <td>2</td>\n",
       "      <td>222.07</td>\n",
       "      <td>13.38</td>\n",
       "      <td>208.69</td>\n",
       "      <td>2583.62</td>\n",
       "    </tr>\n",
       "    <tr>\n",
       "      <th>3</th>\n",
       "      <td>3</td>\n",
       "      <td>222.07</td>\n",
       "      <td>12.38</td>\n",
       "      <td>209.69</td>\n",
       "      <td>2373.93</td>\n",
       "    </tr>\n",
       "    <tr>\n",
       "      <th>4</th>\n",
       "      <td>4</td>\n",
       "      <td>222.07</td>\n",
       "      <td>11.38</td>\n",
       "      <td>210.69</td>\n",
       "      <td>2163.24</td>\n",
       "    </tr>\n",
       "    <tr>\n",
       "      <th>5</th>\n",
       "      <td>5</td>\n",
       "      <td>222.07</td>\n",
       "      <td>10.37</td>\n",
       "      <td>211.70</td>\n",
       "      <td>1951.54</td>\n",
       "    </tr>\n",
       "    <tr>\n",
       "      <th>6</th>\n",
       "      <td>6</td>\n",
       "      <td>222.07</td>\n",
       "      <td>9.35</td>\n",
       "      <td>212.72</td>\n",
       "      <td>1738.82</td>\n",
       "    </tr>\n",
       "    <tr>\n",
       "      <th>7</th>\n",
       "      <td>7</td>\n",
       "      <td>222.07</td>\n",
       "      <td>8.33</td>\n",
       "      <td>213.74</td>\n",
       "      <td>1525.08</td>\n",
       "    </tr>\n",
       "    <tr>\n",
       "      <th>8</th>\n",
       "      <td>8</td>\n",
       "      <td>222.07</td>\n",
       "      <td>7.31</td>\n",
       "      <td>214.76</td>\n",
       "      <td>1310.32</td>\n",
       "    </tr>\n",
       "    <tr>\n",
       "      <th>9</th>\n",
       "      <td>9</td>\n",
       "      <td>222.07</td>\n",
       "      <td>6.28</td>\n",
       "      <td>215.79</td>\n",
       "      <td>1094.53</td>\n",
       "    </tr>\n",
       "    <tr>\n",
       "      <th>10</th>\n",
       "      <td>10</td>\n",
       "      <td>222.07</td>\n",
       "      <td>5.24</td>\n",
       "      <td>216.83</td>\n",
       "      <td>877.70</td>\n",
       "    </tr>\n",
       "    <tr>\n",
       "      <th>11</th>\n",
       "      <td>11</td>\n",
       "      <td>222.07</td>\n",
       "      <td>4.21</td>\n",
       "      <td>217.86</td>\n",
       "      <td>659.84</td>\n",
       "    </tr>\n",
       "    <tr>\n",
       "      <th>12</th>\n",
       "      <td>12</td>\n",
       "      <td>222.07</td>\n",
       "      <td>3.16</td>\n",
       "      <td>218.91</td>\n",
       "      <td>440.93</td>\n",
       "    </tr>\n",
       "    <tr>\n",
       "      <th>13</th>\n",
       "      <td>13</td>\n",
       "      <td>222.07</td>\n",
       "      <td>2.11</td>\n",
       "      <td>219.96</td>\n",
       "      <td>220.97</td>\n",
       "    </tr>\n",
       "    <tr>\n",
       "      <th>14</th>\n",
       "      <td>14</td>\n",
       "      <td>222.07</td>\n",
       "      <td>1.06</td>\n",
       "      <td>221.01</td>\n",
       "      <td>-0.04</td>\n",
       "    </tr>\n",
       "  </tbody>\n",
       "</table>\n",
       "</div>"
      ],
      "text/plain": [
       "    month  payment  interest  principal  balance\n",
       "0       0      NaN       NaN        NaN  3000.00\n",
       "1       1   222.07     14.38     207.69  2792.31\n",
       "2       2   222.07     13.38     208.69  2583.62\n",
       "3       3   222.07     12.38     209.69  2373.93\n",
       "4       4   222.07     11.38     210.69  2163.24\n",
       "5       5   222.07     10.37     211.70  1951.54\n",
       "6       6   222.07      9.35     212.72  1738.82\n",
       "7       7   222.07      8.33     213.74  1525.08\n",
       "8       8   222.07      7.31     214.76  1310.32\n",
       "9       9   222.07      6.28     215.79  1094.53\n",
       "10     10   222.07      5.24     216.83   877.70\n",
       "11     11   222.07      4.21     217.86   659.84\n",
       "12     12   222.07      3.16     218.91   440.93\n",
       "13     13   222.07      2.11     219.96   220.97\n",
       "14     14   222.07      1.06     221.01    -0.04"
      ]
     },
     "execution_count": 8,
     "metadata": {},
     "output_type": "execute_result"
    }
   ],
   "source": [
    "balance = loan\n",
    "\n",
    "for i in range(1, term + 1):\n",
    "    interest = round(rate/12 * balance, 2)\n",
    "    principal = payment - interest\n",
    "    balance = balance - principal\n",
    "    \n",
    "    df = df.append(\n",
    "        pd.DataFrame({\n",
    "            'month': [i],\n",
    "            'payment': [payment],\n",
    "            'interest': [interest],\n",
    "            'principal': [principal],\n",
    "            'balance': [balance]\n",
    "        })\n",
    "    )\n",
    "\n",
    "df = df.reset_index(drop=True)\n",
    "df[['month', 'payment', 'interest', 'principal', 'balance']]"
   ]
  },
  {
   "cell_type": "markdown",
   "metadata": {},
   "source": [
    "This code will be faster if the df already has enough space allocated"
   ]
  },
  {
   "cell_type": "code",
   "execution_count": 9,
   "metadata": {
    "collapsed": false
   },
   "outputs": [
    {
     "data": {
      "text/html": [
       "<div>\n",
       "<style>\n",
       "    .dataframe thead tr:only-child th {\n",
       "        text-align: right;\n",
       "    }\n",
       "\n",
       "    .dataframe thead th {\n",
       "        text-align: left;\n",
       "    }\n",
       "\n",
       "    .dataframe tbody tr th {\n",
       "        vertical-align: top;\n",
       "    }\n",
       "</style>\n",
       "<table border=\"1\" class=\"dataframe\">\n",
       "  <thead>\n",
       "    <tr style=\"text-align: right;\">\n",
       "      <th></th>\n",
       "      <th>month</th>\n",
       "      <th>payment</th>\n",
       "      <th>interest</th>\n",
       "      <th>principal</th>\n",
       "      <th>balance</th>\n",
       "    </tr>\n",
       "  </thead>\n",
       "  <tbody>\n",
       "    <tr>\n",
       "      <th>0</th>\n",
       "      <td>0</td>\n",
       "      <td>NaN</td>\n",
       "      <td>NaN</td>\n",
       "      <td>NaN</td>\n",
       "      <td>3000</td>\n",
       "    </tr>\n",
       "    <tr>\n",
       "      <th>1</th>\n",
       "      <td>1</td>\n",
       "      <td>222.07</td>\n",
       "      <td>14.38</td>\n",
       "      <td>207.69</td>\n",
       "      <td>2792.31</td>\n",
       "    </tr>\n",
       "    <tr>\n",
       "      <th>2</th>\n",
       "      <td>2</td>\n",
       "      <td>222.07</td>\n",
       "      <td>13.38</td>\n",
       "      <td>208.69</td>\n",
       "      <td>2583.62</td>\n",
       "    </tr>\n",
       "    <tr>\n",
       "      <th>3</th>\n",
       "      <td>3</td>\n",
       "      <td>222.07</td>\n",
       "      <td>12.38</td>\n",
       "      <td>209.69</td>\n",
       "      <td>2373.93</td>\n",
       "    </tr>\n",
       "    <tr>\n",
       "      <th>4</th>\n",
       "      <td>4</td>\n",
       "      <td>222.07</td>\n",
       "      <td>11.38</td>\n",
       "      <td>210.69</td>\n",
       "      <td>2163.24</td>\n",
       "    </tr>\n",
       "    <tr>\n",
       "      <th>5</th>\n",
       "      <td>5</td>\n",
       "      <td>222.07</td>\n",
       "      <td>10.37</td>\n",
       "      <td>211.7</td>\n",
       "      <td>1951.54</td>\n",
       "    </tr>\n",
       "    <tr>\n",
       "      <th>6</th>\n",
       "      <td>6</td>\n",
       "      <td>222.07</td>\n",
       "      <td>9.35</td>\n",
       "      <td>212.72</td>\n",
       "      <td>1738.82</td>\n",
       "    </tr>\n",
       "    <tr>\n",
       "      <th>7</th>\n",
       "      <td>7</td>\n",
       "      <td>222.07</td>\n",
       "      <td>8.33</td>\n",
       "      <td>213.74</td>\n",
       "      <td>1525.08</td>\n",
       "    </tr>\n",
       "    <tr>\n",
       "      <th>8</th>\n",
       "      <td>8</td>\n",
       "      <td>222.07</td>\n",
       "      <td>7.31</td>\n",
       "      <td>214.76</td>\n",
       "      <td>1310.32</td>\n",
       "    </tr>\n",
       "    <tr>\n",
       "      <th>9</th>\n",
       "      <td>9</td>\n",
       "      <td>222.07</td>\n",
       "      <td>6.28</td>\n",
       "      <td>215.79</td>\n",
       "      <td>1094.53</td>\n",
       "    </tr>\n",
       "    <tr>\n",
       "      <th>10</th>\n",
       "      <td>10</td>\n",
       "      <td>222.07</td>\n",
       "      <td>5.24</td>\n",
       "      <td>216.83</td>\n",
       "      <td>877.7</td>\n",
       "    </tr>\n",
       "    <tr>\n",
       "      <th>11</th>\n",
       "      <td>NaN</td>\n",
       "      <td>NaN</td>\n",
       "      <td>NaN</td>\n",
       "      <td>NaN</td>\n",
       "      <td>NaN</td>\n",
       "    </tr>\n",
       "    <tr>\n",
       "      <th>12</th>\n",
       "      <td>NaN</td>\n",
       "      <td>NaN</td>\n",
       "      <td>NaN</td>\n",
       "      <td>NaN</td>\n",
       "      <td>NaN</td>\n",
       "    </tr>\n",
       "    <tr>\n",
       "      <th>13</th>\n",
       "      <td>NaN</td>\n",
       "      <td>NaN</td>\n",
       "      <td>NaN</td>\n",
       "      <td>NaN</td>\n",
       "      <td>NaN</td>\n",
       "    </tr>\n",
       "    <tr>\n",
       "      <th>14</th>\n",
       "      <td>NaN</td>\n",
       "      <td>NaN</td>\n",
       "      <td>NaN</td>\n",
       "      <td>NaN</td>\n",
       "      <td>NaN</td>\n",
       "    </tr>\n",
       "  </tbody>\n",
       "</table>\n",
       "</div>"
      ],
      "text/plain": [
       "   month payment interest principal  balance\n",
       "0      0     NaN      NaN       NaN     3000\n",
       "1      1  222.07    14.38    207.69  2792.31\n",
       "2      2  222.07    13.38    208.69  2583.62\n",
       "3      3  222.07    12.38    209.69  2373.93\n",
       "4      4  222.07    11.38    210.69  2163.24\n",
       "5      5  222.07    10.37     211.7  1951.54\n",
       "6      6  222.07     9.35    212.72  1738.82\n",
       "7      7  222.07     8.33    213.74  1525.08\n",
       "8      8  222.07     7.31    214.76  1310.32\n",
       "9      9  222.07     6.28    215.79  1094.53\n",
       "10    10  222.07     5.24    216.83    877.7\n",
       "11   NaN     NaN      NaN       NaN      NaN\n",
       "12   NaN     NaN      NaN       NaN      NaN\n",
       "13   NaN     NaN      NaN       NaN      NaN\n",
       "14   NaN     NaN      NaN       NaN      NaN"
      ]
     },
     "execution_count": 9,
     "metadata": {},
     "output_type": "execute_result"
    }
   ],
   "source": [
    "balance = loan\n",
    "index = range(0, term + 1)\n",
    "columns = ['month', 'payment', 'interest', 'principal', 'balance']\n",
    "df = pd.DataFrame(index=index, columns=columns)\n",
    "\n",
    "df.iloc[0]['month'] = 0\n",
    "df.iloc[0]['balance'] = balance\n",
    "\n",
    "for i in range(1, 11):\n",
    "    interest = round(rate/12 * balance, 2)\n",
    "    principal = payment - interest\n",
    "    balance = balance - principal\n",
    "    \n",
    "    df.iloc[i]['month'] = i\n",
    "    df.iloc[i]['payment'] = payment\n",
    "    df.iloc[i]['interest'] = interest\n",
    "    df.iloc[i]['principal'] = principal\n",
    "    df.iloc[i]['balance'] = balance\n",
    "\n",
    "df"
   ]
  },
  {
   "cell_type": "markdown",
   "metadata": {},
   "source": [
    "Creating a function"
   ]
  },
  {
   "cell_type": "code",
   "execution_count": 12,
   "metadata": {
    "collapsed": true
   },
   "outputs": [],
   "source": [
    "def am(loan, rate, term):\n",
    "    \n",
    "    payment = np.round(-np.pmt(rate/12, term, loan), 2)\n",
    "    balance = loan\n",
    "    \n",
    "    index = range(0, term + 1)\n",
    "    columns = ['month', 'payment', 'interest', 'principal', 'balance']\n",
    "    df = pd.DataFrame(index=index, columns=columns)\n",
    "    \n",
    "    df.iloc[0]['month'] = 0\n",
    "    df.iloc[0]['balance'] = balance\n",
    "    \n",
    "    for i in range(1, term + 1):\n",
    "        interest = round(rate/12 * balance, 2)\n",
    "        principal = payment - interest\n",
    "        balance = balance - principal\n",
    "        \n",
    "        df.iloc[i]['month'] = i\n",
    "        df.iloc[i]['payment'] = payment\n",
    "        df.iloc[i]['interest'] = interest\n",
    "        df.iloc[i]['principal'] = principal\n",
    "        df.iloc[i]['balance'] = balance\n",
    "        \n",
    "    return df"
   ]
  },
  {
   "cell_type": "code",
   "execution_count": 13,
   "metadata": {
    "collapsed": false
   },
   "outputs": [],
   "source": [
    "loan = 3000\n",
    "pineapple = am(loan, 0.0575, 14)\n",
    "orange = am(loan, 0.0399, 20)\n",
    "banana = am(loan, 0.0889, 8)"
   ]
  },
  {
   "cell_type": "code",
   "execution_count": 14,
   "metadata": {
    "collapsed": false
   },
   "outputs": [
    {
     "data": {
      "text/html": [
       "<div>\n",
       "<style>\n",
       "    .dataframe thead tr:only-child th {\n",
       "        text-align: right;\n",
       "    }\n",
       "\n",
       "    .dataframe thead th {\n",
       "        text-align: left;\n",
       "    }\n",
       "\n",
       "    .dataframe tbody tr th {\n",
       "        vertical-align: top;\n",
       "    }\n",
       "</style>\n",
       "<table border=\"1\" class=\"dataframe\">\n",
       "  <thead>\n",
       "    <tr style=\"text-align: right;\">\n",
       "      <th></th>\n",
       "      <th>month</th>\n",
       "      <th>payment</th>\n",
       "      <th>interest</th>\n",
       "      <th>principal</th>\n",
       "      <th>balance</th>\n",
       "    </tr>\n",
       "  </thead>\n",
       "  <tbody>\n",
       "    <tr>\n",
       "      <th>0</th>\n",
       "      <td>0</td>\n",
       "      <td>NaN</td>\n",
       "      <td>NaN</td>\n",
       "      <td>NaN</td>\n",
       "      <td>3000</td>\n",
       "    </tr>\n",
       "    <tr>\n",
       "      <th>1</th>\n",
       "      <td>1</td>\n",
       "      <td>222.07</td>\n",
       "      <td>14.38</td>\n",
       "      <td>207.69</td>\n",
       "      <td>2792.31</td>\n",
       "    </tr>\n",
       "    <tr>\n",
       "      <th>2</th>\n",
       "      <td>2</td>\n",
       "      <td>222.07</td>\n",
       "      <td>13.38</td>\n",
       "      <td>208.69</td>\n",
       "      <td>2583.62</td>\n",
       "    </tr>\n",
       "    <tr>\n",
       "      <th>3</th>\n",
       "      <td>3</td>\n",
       "      <td>222.07</td>\n",
       "      <td>12.38</td>\n",
       "      <td>209.69</td>\n",
       "      <td>2373.93</td>\n",
       "    </tr>\n",
       "    <tr>\n",
       "      <th>4</th>\n",
       "      <td>4</td>\n",
       "      <td>222.07</td>\n",
       "      <td>11.38</td>\n",
       "      <td>210.69</td>\n",
       "      <td>2163.24</td>\n",
       "    </tr>\n",
       "    <tr>\n",
       "      <th>5</th>\n",
       "      <td>5</td>\n",
       "      <td>222.07</td>\n",
       "      <td>10.37</td>\n",
       "      <td>211.7</td>\n",
       "      <td>1951.54</td>\n",
       "    </tr>\n",
       "    <tr>\n",
       "      <th>6</th>\n",
       "      <td>6</td>\n",
       "      <td>222.07</td>\n",
       "      <td>9.35</td>\n",
       "      <td>212.72</td>\n",
       "      <td>1738.82</td>\n",
       "    </tr>\n",
       "    <tr>\n",
       "      <th>7</th>\n",
       "      <td>7</td>\n",
       "      <td>222.07</td>\n",
       "      <td>8.33</td>\n",
       "      <td>213.74</td>\n",
       "      <td>1525.08</td>\n",
       "    </tr>\n",
       "    <tr>\n",
       "      <th>8</th>\n",
       "      <td>8</td>\n",
       "      <td>222.07</td>\n",
       "      <td>7.31</td>\n",
       "      <td>214.76</td>\n",
       "      <td>1310.32</td>\n",
       "    </tr>\n",
       "    <tr>\n",
       "      <th>9</th>\n",
       "      <td>9</td>\n",
       "      <td>222.07</td>\n",
       "      <td>6.28</td>\n",
       "      <td>215.79</td>\n",
       "      <td>1094.53</td>\n",
       "    </tr>\n",
       "    <tr>\n",
       "      <th>10</th>\n",
       "      <td>10</td>\n",
       "      <td>222.07</td>\n",
       "      <td>5.24</td>\n",
       "      <td>216.83</td>\n",
       "      <td>877.7</td>\n",
       "    </tr>\n",
       "    <tr>\n",
       "      <th>11</th>\n",
       "      <td>11</td>\n",
       "      <td>222.07</td>\n",
       "      <td>4.21</td>\n",
       "      <td>217.86</td>\n",
       "      <td>659.84</td>\n",
       "    </tr>\n",
       "    <tr>\n",
       "      <th>12</th>\n",
       "      <td>12</td>\n",
       "      <td>222.07</td>\n",
       "      <td>3.16</td>\n",
       "      <td>218.91</td>\n",
       "      <td>440.93</td>\n",
       "    </tr>\n",
       "    <tr>\n",
       "      <th>13</th>\n",
       "      <td>13</td>\n",
       "      <td>222.07</td>\n",
       "      <td>2.11</td>\n",
       "      <td>219.96</td>\n",
       "      <td>220.97</td>\n",
       "    </tr>\n",
       "    <tr>\n",
       "      <th>14</th>\n",
       "      <td>14</td>\n",
       "      <td>222.07</td>\n",
       "      <td>1.06</td>\n",
       "      <td>221.01</td>\n",
       "      <td>-0.04</td>\n",
       "    </tr>\n",
       "  </tbody>\n",
       "</table>\n",
       "</div>"
      ],
      "text/plain": [
       "   month payment interest principal  balance\n",
       "0      0     NaN      NaN       NaN     3000\n",
       "1      1  222.07    14.38    207.69  2792.31\n",
       "2      2  222.07    13.38    208.69  2583.62\n",
       "3      3  222.07    12.38    209.69  2373.93\n",
       "4      4  222.07    11.38    210.69  2163.24\n",
       "5      5  222.07    10.37     211.7  1951.54\n",
       "6      6  222.07     9.35    212.72  1738.82\n",
       "7      7  222.07     8.33    213.74  1525.08\n",
       "8      8  222.07     7.31    214.76  1310.32\n",
       "9      9  222.07     6.28    215.79  1094.53\n",
       "10    10  222.07     5.24    216.83    877.7\n",
       "11    11  222.07     4.21    217.86   659.84\n",
       "12    12  222.07     3.16    218.91   440.93\n",
       "13    13  222.07     2.11    219.96   220.97\n",
       "14    14  222.07     1.06    221.01    -0.04"
      ]
     },
     "execution_count": 14,
     "metadata": {},
     "output_type": "execute_result"
    }
   ],
   "source": [
    "pineapple"
   ]
  },
  {
   "cell_type": "code",
   "execution_count": 15,
   "metadata": {
    "collapsed": false
   },
   "outputs": [
    {
     "data": {
      "text/plain": [
       "100.88"
      ]
     },
     "execution_count": 15,
     "metadata": {},
     "output_type": "execute_result"
    }
   ],
   "source": [
    "banana['interest'].sum()"
   ]
  },
  {
   "cell_type": "code",
   "execution_count": 16,
   "metadata": {
    "collapsed": false
   },
   "outputs": [
    {
     "name": "stdout",
     "output_type": "stream",
     "text": [
      "100.88\n",
      "105.83\n",
      "108.94\n"
     ]
    }
   ],
   "source": [
    "print(banana['interest'].sum())\n",
    "print(orange['interest'].sum())\n",
    "print(pineapple['interest'].sum())"
   ]
  },
  {
   "cell_type": "code",
   "execution_count": 29,
   "metadata": {
    "collapsed": true
   },
   "outputs": [],
   "source": [
    "def am1(loan, rate, term):\n",
    "    balance = loan\n",
    "    df = pd.DataFrame({\n",
    "        'month': [0],\n",
    "        'payment': [np.NaN],\n",
    "        'interest': [np.NaN],\n",
    "        'balance': [balance]\n",
    "    })\n",
    "    \n",
    "    for i in range(1, term + 1):\n",
    "        interest = round(rate/12 * balance, 2)\n",
    "        principal = payment - interest\n",
    "        balance = balance - principal\n",
    "\n",
    "        df = df.append(\n",
    "            pd.DataFrame({\n",
    "                'month': [i],\n",
    "                'payment': [payment],\n",
    "                'interest': [interest],\n",
    "                'principal': [principal],\n",
    "                'balance': [balance]\n",
    "            })\n",
    "        )\n",
    "    \n",
    "    return df"
   ]
  },
  {
   "cell_type": "markdown",
   "metadata": {},
   "source": [
    "Comparing time of pre-allocating vs. not pre-allocating space on the data frame:\n",
    "\n",
    "function am sets the index to range 0 to term+1 and then uses iloc to enter amortization schedules into the correct rows, function am1 does not"
   ]
  },
  {
   "cell_type": "code",
   "execution_count": 17,
   "metadata": {
    "collapsed": false
   },
   "outputs": [
    {
     "name": "stdout",
     "output_type": "stream",
     "text": [
      "100 loops, best of 3: 6.11 ms per loop\n"
     ]
    }
   ],
   "source": [
    "%%timeit\n",
    "\n",
    "am(3000, 0.0575, 14)"
   ]
  },
  {
   "cell_type": "code",
   "execution_count": 32,
   "metadata": {
    "collapsed": false
   },
   "outputs": [
    {
     "name": "stdout",
     "output_type": "stream",
     "text": [
      "10 loops, best of 3: 19.3 ms per loop\n"
     ]
    }
   ],
   "source": [
    "%%timeit\n",
    "\n",
    "am1(3000, 0.0575, 14)"
   ]
  }
 ],
 "metadata": {
  "anaconda-cloud": {},
  "kernelspec": {
   "display_name": "Python [py36]",
   "language": "python",
   "name": "Python [py36]"
  },
  "language_info": {
   "codemirror_mode": {
    "name": "ipython",
    "version": 3
   },
   "file_extension": ".py",
   "mimetype": "text/x-python",
   "name": "python",
   "nbconvert_exporter": "python",
   "pygments_lexer": "ipython3",
   "version": "3.6.7"
  }
 },
 "nbformat": 4,
 "nbformat_minor": 0
}
