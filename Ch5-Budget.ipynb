{
 "cells": [
  {
   "cell_type": "markdown",
   "metadata": {},
   "source": [
    "Dates can be difficult to work with in Python as there are different formats used by different packages.\n",
    "\n",
    "Python ships with datetime..."
   ]
  },
  {
   "cell_type": "code",
   "execution_count": 1,
   "metadata": {
    "collapsed": false
   },
   "outputs": [
    {
     "name": "stdout",
     "output_type": "stream",
     "text": [
      "2019-01-06 11:20:42.790828\n",
      "datetime.datetime(2019, 1, 6, 11, 20, 42, 790828)\n",
      "<class 'datetime.datetime'>\n",
      "2019-01-06\n",
      "datetime.date(2019, 1, 6)\n",
      "<class 'datetime.date'>\n"
     ]
    }
   ],
   "source": [
    "import datetime\n",
    "\n",
    "#datetime.datetime\n",
    "date_1 = datetime.datetime.now()\n",
    "print(date_1)\n",
    "print(date_1.__repr__())\n",
    "print(type(date_1))\n",
    "\n",
    "# datetime.date\n",
    "date_2 = datetime.date.today()\n",
    "print(date_2)\n",
    "print(date_2.__repr__())\n",
    "print(type(date_2))"
   ]
  },
  {
   "cell_type": "markdown",
   "metadata": {},
   "source": [
    "Pandas ships with Timestamp that largely behaves like a datetime.datetime object but works better with DataFrames and DateTimeIndexes and comes with features like normalize\n",
    "\n",
    "To convert use the to_datetime function or wrap the object in Timestamp"
   ]
  },
  {
   "cell_type": "code",
   "execution_count": null,
   "metadata": {
    "collapsed": true
   },
   "outputs": [],
   "source": []
  }
 ],
 "metadata": {
  "anaconda-cloud": {},
  "kernelspec": {
   "display_name": "Python [py36]",
   "language": "python",
   "name": "Python [py36]"
  },
  "language_info": {
   "codemirror_mode": {
    "name": "ipython",
    "version": 3
   },
   "file_extension": ".py",
   "mimetype": "text/x-python",
   "name": "python",
   "nbconvert_exporter": "python",
   "pygments_lexer": "ipython3",
   "version": "3.6.7"
  }
 },
 "nbformat": 4,
 "nbformat_minor": 0
}
