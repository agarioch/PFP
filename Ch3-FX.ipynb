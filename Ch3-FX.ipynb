{
 "cells": [
  {
   "cell_type": "markdown",
   "metadata": {},
   "source": [
    "### API KEY\n",
    "read api key from config.ini file"
   ]
  },
  {
   "cell_type": "markdown",
   "metadata": {},
   "source": [
    "FX rates from openexchangerates.org"
   ]
  },
  {
   "cell_type": "code",
   "execution_count": 7,
   "metadata": {
    "collapsed": false
   },
   "outputs": [
    {
     "data": {
      "text/plain": [
       "['config.ini']"
      ]
     },
     "execution_count": 7,
     "metadata": {},
     "output_type": "execute_result"
    }
   ],
   "source": [
    "import configparser\n",
    "import requests\n",
    "\n",
    "config = configparser.ConfigParser()\n",
    "config.sections()\n",
    "config.read('config.ini')"
   ]
  },
  {
   "cell_type": "code",
   "execution_count": 8,
   "metadata": {
    "collapsed": true
   },
   "outputs": [],
   "source": [
    "API_KEY = config['KEYS']['OPX_KEY']"
   ]
  },
  {
   "cell_type": "markdown",
   "metadata": {},
   "source": [
    "### Currency Converter class\n",
    "Define currency converter class with convert method\n",
    "* Initialize class to read rates from openexchangerates.org for provided symbols and store in rates variable\n",
    "* convert method converts a value in from symbol to amount in to symbol"
   ]
  },
  {
   "cell_type": "code",
   "execution_count": 9,
   "metadata": {
    "collapsed": true
   },
   "outputs": [],
   "source": [
    "class CurrencyConverter:\n",
    "    \n",
    "    def __init__(self, symbols, API_KEY):\n",
    "        \n",
    "        self.API_KEY = API_KEY\n",
    "        self.symbols = symbols\n",
    "        self._symbols = ','.join([str(s) for s in symbols])\n",
    "        \n",
    "        r = requests.get(\n",
    "            'https://openexchangerates.org/api/latest.json',\n",
    "            params = {\n",
    "                'app_id' : self.API_KEY,\n",
    "                'symbols' : self._symbols,\n",
    "                'show_alternative' : 'true'\n",
    "                }\n",
    "            )\n",
    "        self.rates = r.json()['rates']\n",
    "        self.rates['USD'] = 1\n",
    "    \n",
    "    def convert(self, value, symbol_from, symbol_to, round_output = True):\n",
    "\n",
    "            try:\n",
    "                x = (value\n",
    "                    * 1/self.rates.get(symbol_from)\n",
    "                    * self.rates.get(symbol_to))\n",
    "                if round_output:\n",
    "                    return round(x, 2)\n",
    "                else:\n",
    "                    return x\n",
    "            except TypeError:\n",
    "                print('Unavailable or invalid symbol')\n",
    "                return None"
   ]
  },
  {
   "cell_type": "markdown",
   "metadata": {},
   "source": [
    "### Testing converter class"
   ]
  },
  {
   "cell_type": "code",
   "execution_count": 10,
   "metadata": {
    "collapsed": false
   },
   "outputs": [
    {
     "name": "stdout",
     "output_type": "stream",
     "text": [
      "2243.13\n",
      "6687.09\n"
     ]
    }
   ],
   "source": [
    "c = CurrencyConverter(['CAD', 'USD'], API_KEY)\n",
    "\n",
    "print(c.convert(3000, 'CAD', 'USD'))\n",
    "print(c.convert(5000, 'USD', 'CAD'))"
   ]
  },
  {
   "cell_type": "code",
   "execution_count": 11,
   "metadata": {
    "collapsed": false
   },
   "outputs": [
    {
     "data": {
      "text/plain": [
       "{'BTC': 0.000259320684,\n",
       " 'CAD': 1.337417,\n",
       " 'DOGE': 447.696725862,\n",
       " 'ETH': 0.0064121061,\n",
       " 'USD': 1}"
      ]
     },
     "execution_count": 11,
     "metadata": {},
     "output_type": "execute_result"
    }
   ],
   "source": [
    "c = CurrencyConverter(['CAD', 'USD', 'DOGE', 'ETH', 'BTC'],\n",
    "                     API_KEY)\n",
    "c.rates"
   ]
  },
  {
   "cell_type": "code",
   "execution_count": 12,
   "metadata": {
    "collapsed": false
   },
   "outputs": [
    {
     "data": {
      "text/plain": [
       "1004241.89"
      ]
     },
     "execution_count": 12,
     "metadata": {},
     "output_type": "execute_result"
    }
   ],
   "source": [
    "c.convert(3000, 'CAD', 'DOGE')"
   ]
  },
  {
   "cell_type": "markdown",
   "metadata": {},
   "source": [
    "### Apply to chapter 2 exercise"
   ]
  },
  {
   "cell_type": "code",
   "execution_count": 13,
   "metadata": {
    "collapsed": false
   },
   "outputs": [
    {
     "data": {
      "text/html": [
       "<div>\n",
       "<style>\n",
       "    .dataframe thead tr:only-child th {\n",
       "        text-align: right;\n",
       "    }\n",
       "\n",
       "    .dataframe thead th {\n",
       "        text-align: left;\n",
       "    }\n",
       "\n",
       "    .dataframe tbody tr th {\n",
       "        vertical-align: top;\n",
       "    }\n",
       "</style>\n",
       "<table border=\"1\" class=\"dataframe\">\n",
       "  <thead>\n",
       "    <tr style=\"text-align: right;\">\n",
       "      <th></th>\n",
       "      <th>date</th>\n",
       "      <th>income</th>\n",
       "      <th>expenses</th>\n",
       "      <th>total</th>\n",
       "    </tr>\n",
       "  </thead>\n",
       "  <tbody>\n",
       "    <tr>\n",
       "      <th>0</th>\n",
       "      <td>2017-01-01</td>\n",
       "      <td>40</td>\n",
       "      <td>-3000</td>\n",
       "      <td>-2960</td>\n",
       "    </tr>\n",
       "    <tr>\n",
       "      <th>1</th>\n",
       "      <td>2017-01-25</td>\n",
       "      <td>40</td>\n",
       "      <td>-50</td>\n",
       "      <td>-10</td>\n",
       "    </tr>\n",
       "    <tr>\n",
       "      <th>2</th>\n",
       "      <td>2017-02-12</td>\n",
       "      <td>80</td>\n",
       "      <td>-50</td>\n",
       "      <td>30</td>\n",
       "    </tr>\n",
       "    <tr>\n",
       "      <th>3</th>\n",
       "      <td>2017-02-14</td>\n",
       "      <td>100</td>\n",
       "      <td>-30</td>\n",
       "      <td>70</td>\n",
       "    </tr>\n",
       "    <tr>\n",
       "      <th>4</th>\n",
       "      <td>2017-03-04</td>\n",
       "      <td>100</td>\n",
       "      <td>-20</td>\n",
       "      <td>80</td>\n",
       "    </tr>\n",
       "    <tr>\n",
       "      <th>5</th>\n",
       "      <td>2017-04-23</td>\n",
       "      <td>160</td>\n",
       "      <td>-30</td>\n",
       "      <td>130</td>\n",
       "    </tr>\n",
       "    <tr>\n",
       "      <th>6</th>\n",
       "      <td>2017-05-07</td>\n",
       "      <td>140</td>\n",
       "      <td>-20</td>\n",
       "      <td>120</td>\n",
       "    </tr>\n",
       "    <tr>\n",
       "      <th>7</th>\n",
       "      <td>2017-05-21</td>\n",
       "      <td>140</td>\n",
       "      <td>-40</td>\n",
       "      <td>100</td>\n",
       "    </tr>\n",
       "    <tr>\n",
       "      <th>8</th>\n",
       "      <td>2017-06-04</td>\n",
       "      <td>80</td>\n",
       "      <td>-40</td>\n",
       "      <td>40</td>\n",
       "    </tr>\n",
       "    <tr>\n",
       "      <th>9</th>\n",
       "      <td>2017-06-19</td>\n",
       "      <td>180</td>\n",
       "      <td>-30</td>\n",
       "      <td>150</td>\n",
       "    </tr>\n",
       "    <tr>\n",
       "      <th>10</th>\n",
       "      <td>2017-07-16</td>\n",
       "      <td>360</td>\n",
       "      <td>-40</td>\n",
       "      <td>320</td>\n",
       "    </tr>\n",
       "    <tr>\n",
       "      <th>11</th>\n",
       "      <td>2017-08-27</td>\n",
       "      <td>160</td>\n",
       "      <td>-30</td>\n",
       "      <td>130</td>\n",
       "    </tr>\n",
       "    <tr>\n",
       "      <th>12</th>\n",
       "      <td>2017-09-24</td>\n",
       "      <td>240</td>\n",
       "      <td>-20</td>\n",
       "      <td>220</td>\n",
       "    </tr>\n",
       "    <tr>\n",
       "      <th>13</th>\n",
       "      <td>2017-10-21</td>\n",
       "      <td>420</td>\n",
       "      <td>-50</td>\n",
       "      <td>370</td>\n",
       "    </tr>\n",
       "    <tr>\n",
       "      <th>14</th>\n",
       "      <td>2017-11-19</td>\n",
       "      <td>400</td>\n",
       "      <td>-20</td>\n",
       "      <td>380</td>\n",
       "    </tr>\n",
       "    <tr>\n",
       "      <th>15</th>\n",
       "      <td>2017-12-03</td>\n",
       "      <td>340</td>\n",
       "      <td>-40</td>\n",
       "      <td>300</td>\n",
       "    </tr>\n",
       "    <tr>\n",
       "      <th>16</th>\n",
       "      <td>2017-12-17</td>\n",
       "      <td>360</td>\n",
       "      <td>-40</td>\n",
       "      <td>320</td>\n",
       "    </tr>\n",
       "    <tr>\n",
       "      <th>17</th>\n",
       "      <td>2017-12-31</td>\n",
       "      <td>540</td>\n",
       "      <td>-40</td>\n",
       "      <td>500</td>\n",
       "    </tr>\n",
       "  </tbody>\n",
       "</table>\n",
       "</div>"
      ],
      "text/plain": [
       "         date  income  expenses  total\n",
       "0  2017-01-01      40     -3000  -2960\n",
       "1  2017-01-25      40       -50    -10\n",
       "2  2017-02-12      80       -50     30\n",
       "3  2017-02-14     100       -30     70\n",
       "4  2017-03-04     100       -20     80\n",
       "5  2017-04-23     160       -30    130\n",
       "6  2017-05-07     140       -20    120\n",
       "7  2017-05-21     140       -40    100\n",
       "8  2017-06-04      80       -40     40\n",
       "9  2017-06-19     180       -30    150\n",
       "10 2017-07-16     360       -40    320\n",
       "11 2017-08-27     160       -30    130\n",
       "12 2017-09-24     240       -20    220\n",
       "13 2017-10-21     420       -50    370\n",
       "14 2017-11-19     400       -20    380\n",
       "15 2017-12-03     340       -40    300\n",
       "16 2017-12-17     360       -40    320\n",
       "17 2017-12-31     540       -40    500"
      ]
     },
     "execution_count": 13,
     "metadata": {},
     "output_type": "execute_result"
    }
   ],
   "source": [
    "import pandas as pd\n",
    "\n",
    "df = pd.read_excel('data/xirr.xlsx', 'irregular')\n",
    "df['total'] = df.income + df.expenses\n",
    "df"
   ]
  },
  {
   "cell_type": "code",
   "execution_count": 14,
   "metadata": {
    "collapsed": false
   },
   "outputs": [
    {
     "data": {
      "text/plain": [
       "0    -2213.22\n",
       "1       -7.48\n",
       "2       22.43\n",
       "3       52.34\n",
       "4       59.82\n",
       "5       97.20\n",
       "6       89.73\n",
       "7       74.77\n",
       "8       29.91\n",
       "9      112.16\n",
       "10     239.27\n",
       "11      97.20\n",
       "12     164.50\n",
       "13     276.65\n",
       "14     284.13\n",
       "15     224.31\n",
       "16     239.27\n",
       "17     373.85\n",
       "Name: total, dtype: float64"
      ]
     },
     "execution_count": 14,
     "metadata": {},
     "output_type": "execute_result"
    }
   ],
   "source": [
    "# convert totals to USD using lambda function\n",
    "df['total'].apply(lambda x: c.convert(x, 'CAD', 'USD'))"
   ]
  }
 ],
 "metadata": {
  "anaconda-cloud": {},
  "kernelspec": {
   "display_name": "Python [py36]",
   "language": "python",
   "name": "Python [py36]"
  },
  "language_info": {
   "codemirror_mode": {
    "name": "ipython",
    "version": 3
   },
   "file_extension": ".py",
   "mimetype": "text/x-python",
   "name": "python",
   "nbconvert_exporter": "python",
   "pygments_lexer": "ipython3",
   "version": "3.6.7"
  }
 },
 "nbformat": 4,
 "nbformat_minor": 2
}
