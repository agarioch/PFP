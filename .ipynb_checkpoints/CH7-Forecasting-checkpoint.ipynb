{
 "cells": [
  {
   "cell_type": "code",
   "execution_count": 2,
   "metadata": {
    "collapsed": true
   },
   "outputs": [],
   "source": [
    "import pandas as pd"
   ]
  },
  {
   "cell_type": "code",
   "execution_count": 3,
   "metadata": {
    "collapsed": true
   },
   "outputs": [],
   "source": [
    "purchases = pd.read_csv('data/purchases.csv')"
   ]
  },
  {
   "cell_type": "code",
   "execution_count": 4,
   "metadata": {},
   "outputs": [
    {
     "data": {
      "text/html": [
       "<div>\n",
       "<style scoped>\n",
       "    .dataframe tbody tr th:only-of-type {\n",
       "        vertical-align: middle;\n",
       "    }\n",
       "\n",
       "    .dataframe tbody tr th {\n",
       "        vertical-align: top;\n",
       "    }\n",
       "\n",
       "    .dataframe thead th {\n",
       "        text-align: right;\n",
       "    }\n",
       "</style>\n",
       "<table border=\"1\" class=\"dataframe\">\n",
       "  <thead>\n",
       "    <tr style=\"text-align: right;\">\n",
       "      <th></th>\n",
       "      <th>date</th>\n",
       "      <th>amount</th>\n",
       "    </tr>\n",
       "  </thead>\n",
       "  <tbody>\n",
       "    <tr>\n",
       "      <th>0</th>\n",
       "      <td>2012-07-25</td>\n",
       "      <td>82.55</td>\n",
       "    </tr>\n",
       "    <tr>\n",
       "      <th>1</th>\n",
       "      <td>2012-12-10</td>\n",
       "      <td>61.01</td>\n",
       "    </tr>\n",
       "    <tr>\n",
       "      <th>2</th>\n",
       "      <td>2013-02-19</td>\n",
       "      <td>11.54</td>\n",
       "    </tr>\n",
       "    <tr>\n",
       "      <th>3</th>\n",
       "      <td>2013-02-24</td>\n",
       "      <td>66.67</td>\n",
       "    </tr>\n",
       "    <tr>\n",
       "      <th>4</th>\n",
       "      <td>2013-04-20</td>\n",
       "      <td>7.99</td>\n",
       "    </tr>\n",
       "  </tbody>\n",
       "</table>\n",
       "</div>"
      ],
      "text/plain": [
       "         date  amount\n",
       "0  2012-07-25   82.55\n",
       "1  2012-12-10   61.01\n",
       "2  2013-02-19   11.54\n",
       "3  2013-02-24   66.67\n",
       "4  2013-04-20    7.99"
      ]
     },
     "execution_count": 4,
     "metadata": {},
     "output_type": "execute_result"
    }
   ],
   "source": [
    "purchases.head()"
   ]
  },
  {
   "cell_type": "code",
   "execution_count": 5,
   "metadata": {
    "collapsed": true
   },
   "outputs": [],
   "source": [
    "purchases['cumsum'] = purchases['amount'].cumsum()"
   ]
  },
  {
   "cell_type": "code",
   "execution_count": 6,
   "metadata": {},
   "outputs": [
    {
     "data": {
      "text/html": [
       "<div>\n",
       "<style scoped>\n",
       "    .dataframe tbody tr th:only-of-type {\n",
       "        vertical-align: middle;\n",
       "    }\n",
       "\n",
       "    .dataframe tbody tr th {\n",
       "        vertical-align: top;\n",
       "    }\n",
       "\n",
       "    .dataframe thead th {\n",
       "        text-align: right;\n",
       "    }\n",
       "</style>\n",
       "<table border=\"1\" class=\"dataframe\">\n",
       "  <thead>\n",
       "    <tr style=\"text-align: right;\">\n",
       "      <th></th>\n",
       "      <th>ds</th>\n",
       "      <th>y</th>\n",
       "    </tr>\n",
       "  </thead>\n",
       "  <tbody>\n",
       "    <tr>\n",
       "      <th>0</th>\n",
       "      <td>2012-07-25</td>\n",
       "      <td>82.55</td>\n",
       "    </tr>\n",
       "    <tr>\n",
       "      <th>1</th>\n",
       "      <td>2012-12-10</td>\n",
       "      <td>143.56</td>\n",
       "    </tr>\n",
       "    <tr>\n",
       "      <th>2</th>\n",
       "      <td>2013-02-19</td>\n",
       "      <td>155.10</td>\n",
       "    </tr>\n",
       "    <tr>\n",
       "      <th>3</th>\n",
       "      <td>2013-02-24</td>\n",
       "      <td>221.77</td>\n",
       "    </tr>\n",
       "    <tr>\n",
       "      <th>4</th>\n",
       "      <td>2013-04-20</td>\n",
       "      <td>229.76</td>\n",
       "    </tr>\n",
       "  </tbody>\n",
       "</table>\n",
       "</div>"
      ],
      "text/plain": [
       "           ds       y\n",
       "0  2012-07-25   82.55\n",
       "1  2012-12-10  143.56\n",
       "2  2013-02-19  155.10\n",
       "3  2013-02-24  221.77\n",
       "4  2013-04-20  229.76"
      ]
     },
     "execution_count": 6,
     "metadata": {},
     "output_type": "execute_result"
    }
   ],
   "source": [
    "purchases = purchases[['date', 'cumsum']]\n",
    "purchases.columns = ['ds', 'y']\n",
    "purchases.head()"
   ]
  },
  {
   "cell_type": "code",
   "execution_count": 7,
   "metadata": {
    "collapsed": true
   },
   "outputs": [],
   "source": [
    "from fbprophet import Prophet"
   ]
  },
  {
   "cell_type": "code",
   "execution_count": 8,
   "metadata": {},
   "outputs": [
    {
     "name": "stderr",
     "output_type": "stream",
     "text": [
      "/Users/Alistair/anaconda/envs/py36/lib/python3.6/site-packages/pystan/misc.py:399: FutureWarning: Conversion of the second argument of issubdtype from `float` to `np.floating` is deprecated. In future, it will be treated as `np.float64 == np.dtype(float).type`.\n",
      "  elif np.issubdtype(np.asarray(v).dtype, float):\n"
     ]
    },
    {
     "data": {
      "text/plain": [
       "<fbprophet.forecaster.Prophet at 0x109761b00>"
      ]
     },
     "execution_count": 8,
     "metadata": {},
     "output_type": "execute_result"
    }
   ],
   "source": [
    "m = Prophet(daily_seasonality = False)\n",
    "m.fit(purchases)"
   ]
  },
  {
   "cell_type": "code",
   "execution_count": 9,
   "metadata": {
    "collapsed": true
   },
   "outputs": [],
   "source": [
    "future = m.make_future_dataframe(periods=365)"
   ]
  },
  {
   "cell_type": "code",
   "execution_count": 10,
   "metadata": {},
   "outputs": [
    {
     "data": {
      "text/html": [
       "<div>\n",
       "<style scoped>\n",
       "    .dataframe tbody tr th:only-of-type {\n",
       "        vertical-align: middle;\n",
       "    }\n",
       "\n",
       "    .dataframe tbody tr th {\n",
       "        vertical-align: top;\n",
       "    }\n",
       "\n",
       "    .dataframe thead th {\n",
       "        text-align: right;\n",
       "    }\n",
       "</style>\n",
       "<table border=\"1\" class=\"dataframe\">\n",
       "  <thead>\n",
       "    <tr style=\"text-align: right;\">\n",
       "      <th></th>\n",
       "      <th>ds</th>\n",
       "    </tr>\n",
       "  </thead>\n",
       "  <tbody>\n",
       "    <tr>\n",
       "      <th>443</th>\n",
       "      <td>2019-01-27</td>\n",
       "    </tr>\n",
       "    <tr>\n",
       "      <th>444</th>\n",
       "      <td>2019-01-28</td>\n",
       "    </tr>\n",
       "    <tr>\n",
       "      <th>445</th>\n",
       "      <td>2019-01-29</td>\n",
       "    </tr>\n",
       "    <tr>\n",
       "      <th>446</th>\n",
       "      <td>2019-01-30</td>\n",
       "    </tr>\n",
       "    <tr>\n",
       "      <th>447</th>\n",
       "      <td>2019-01-31</td>\n",
       "    </tr>\n",
       "  </tbody>\n",
       "</table>\n",
       "</div>"
      ],
      "text/plain": [
       "            ds\n",
       "443 2019-01-27\n",
       "444 2019-01-28\n",
       "445 2019-01-29\n",
       "446 2019-01-30\n",
       "447 2019-01-31"
      ]
     },
     "execution_count": 10,
     "metadata": {},
     "output_type": "execute_result"
    }
   ],
   "source": [
    "future.tail()"
   ]
  },
  {
   "cell_type": "code",
   "execution_count": 11,
   "metadata": {
    "collapsed": true
   },
   "outputs": [],
   "source": [
    "forecast = m.predict(future)"
   ]
  },
  {
   "cell_type": "code",
   "execution_count": 12,
   "metadata": {},
   "outputs": [
    {
     "data": {
      "text/html": [
       "<div>\n",
       "<style scoped>\n",
       "    .dataframe tbody tr th:only-of-type {\n",
       "        vertical-align: middle;\n",
       "    }\n",
       "\n",
       "    .dataframe tbody tr th {\n",
       "        vertical-align: top;\n",
       "    }\n",
       "\n",
       "    .dataframe thead th {\n",
       "        text-align: right;\n",
       "    }\n",
       "</style>\n",
       "<table border=\"1\" class=\"dataframe\">\n",
       "  <thead>\n",
       "    <tr style=\"text-align: right;\">\n",
       "      <th></th>\n",
       "      <th>ds</th>\n",
       "      <th>trend</th>\n",
       "      <th>yhat_lower</th>\n",
       "      <th>yhat_upper</th>\n",
       "      <th>trend_lower</th>\n",
       "      <th>trend_upper</th>\n",
       "      <th>additive_terms</th>\n",
       "      <th>additive_terms_lower</th>\n",
       "      <th>additive_terms_upper</th>\n",
       "      <th>weekly</th>\n",
       "      <th>weekly_lower</th>\n",
       "      <th>weekly_upper</th>\n",
       "      <th>yearly</th>\n",
       "      <th>yearly_lower</th>\n",
       "      <th>yearly_upper</th>\n",
       "      <th>multiplicative_terms</th>\n",
       "      <th>multiplicative_terms_lower</th>\n",
       "      <th>multiplicative_terms_upper</th>\n",
       "      <th>yhat</th>\n",
       "    </tr>\n",
       "  </thead>\n",
       "  <tbody>\n",
       "    <tr>\n",
       "      <th>443</th>\n",
       "      <td>2019-01-27</td>\n",
       "      <td>7865.917844</td>\n",
       "      <td>7678.324467</td>\n",
       "      <td>8135.380951</td>\n",
       "      <td>7667.643134</td>\n",
       "      <td>8062.028542</td>\n",
       "      <td>56.854664</td>\n",
       "      <td>56.854664</td>\n",
       "      <td>56.854664</td>\n",
       "      <td>8.542288</td>\n",
       "      <td>8.542288</td>\n",
       "      <td>8.542288</td>\n",
       "      <td>48.312376</td>\n",
       "      <td>48.312376</td>\n",
       "      <td>48.312376</td>\n",
       "      <td>0.0</td>\n",
       "      <td>0.0</td>\n",
       "      <td>0.0</td>\n",
       "      <td>7922.772508</td>\n",
       "    </tr>\n",
       "    <tr>\n",
       "      <th>444</th>\n",
       "      <td>2019-01-28</td>\n",
       "      <td>7873.442744</td>\n",
       "      <td>7671.056280</td>\n",
       "      <td>8117.050070</td>\n",
       "      <td>7673.988624</td>\n",
       "      <td>8070.720525</td>\n",
       "      <td>27.477412</td>\n",
       "      <td>27.477412</td>\n",
       "      <td>27.477412</td>\n",
       "      <td>-16.455250</td>\n",
       "      <td>-16.455250</td>\n",
       "      <td>-16.455250</td>\n",
       "      <td>43.932662</td>\n",
       "      <td>43.932662</td>\n",
       "      <td>43.932662</td>\n",
       "      <td>0.0</td>\n",
       "      <td>0.0</td>\n",
       "      <td>0.0</td>\n",
       "      <td>7900.920156</td>\n",
       "    </tr>\n",
       "    <tr>\n",
       "      <th>445</th>\n",
       "      <td>2019-01-29</td>\n",
       "      <td>7880.967644</td>\n",
       "      <td>7636.345678</td>\n",
       "      <td>8112.922905</td>\n",
       "      <td>7680.211389</td>\n",
       "      <td>8079.046965</td>\n",
       "      <td>-0.498447</td>\n",
       "      <td>-0.498447</td>\n",
       "      <td>-0.498447</td>\n",
       "      <td>-40.062605</td>\n",
       "      <td>-40.062605</td>\n",
       "      <td>-40.062605</td>\n",
       "      <td>39.564158</td>\n",
       "      <td>39.564158</td>\n",
       "      <td>39.564158</td>\n",
       "      <td>0.0</td>\n",
       "      <td>0.0</td>\n",
       "      <td>0.0</td>\n",
       "      <td>7880.469197</td>\n",
       "    </tr>\n",
       "    <tr>\n",
       "      <th>446</th>\n",
       "      <td>2019-01-30</td>\n",
       "      <td>7888.492544</td>\n",
       "      <td>7684.683044</td>\n",
       "      <td>8150.433652</td>\n",
       "      <td>7686.433345</td>\n",
       "      <td>8087.890770</td>\n",
       "      <td>41.953779</td>\n",
       "      <td>41.953779</td>\n",
       "      <td>41.953779</td>\n",
       "      <td>6.720439</td>\n",
       "      <td>6.720439</td>\n",
       "      <td>6.720439</td>\n",
       "      <td>35.233340</td>\n",
       "      <td>35.233340</td>\n",
       "      <td>35.233340</td>\n",
       "      <td>0.0</td>\n",
       "      <td>0.0</td>\n",
       "      <td>0.0</td>\n",
       "      <td>7930.446322</td>\n",
       "    </tr>\n",
       "    <tr>\n",
       "      <th>447</th>\n",
       "      <td>2019-01-31</td>\n",
       "      <td>7896.017443</td>\n",
       "      <td>7750.670733</td>\n",
       "      <td>8217.192065</td>\n",
       "      <td>7692.655301</td>\n",
       "      <td>8096.717824</td>\n",
       "      <td>97.786385</td>\n",
       "      <td>97.786385</td>\n",
       "      <td>97.786385</td>\n",
       "      <td>66.825393</td>\n",
       "      <td>66.825393</td>\n",
       "      <td>66.825393</td>\n",
       "      <td>30.960992</td>\n",
       "      <td>30.960992</td>\n",
       "      <td>30.960992</td>\n",
       "      <td>0.0</td>\n",
       "      <td>0.0</td>\n",
       "      <td>0.0</td>\n",
       "      <td>7993.803828</td>\n",
       "    </tr>\n",
       "  </tbody>\n",
       "</table>\n",
       "</div>"
      ],
      "text/plain": [
       "            ds        trend   yhat_lower   yhat_upper  trend_lower  \\\n",
       "443 2019-01-27  7865.917844  7678.324467  8135.380951  7667.643134   \n",
       "444 2019-01-28  7873.442744  7671.056280  8117.050070  7673.988624   \n",
       "445 2019-01-29  7880.967644  7636.345678  8112.922905  7680.211389   \n",
       "446 2019-01-30  7888.492544  7684.683044  8150.433652  7686.433345   \n",
       "447 2019-01-31  7896.017443  7750.670733  8217.192065  7692.655301   \n",
       "\n",
       "     trend_upper  additive_terms  additive_terms_lower  additive_terms_upper  \\\n",
       "443  8062.028542       56.854664             56.854664             56.854664   \n",
       "444  8070.720525       27.477412             27.477412             27.477412   \n",
       "445  8079.046965       -0.498447             -0.498447             -0.498447   \n",
       "446  8087.890770       41.953779             41.953779             41.953779   \n",
       "447  8096.717824       97.786385             97.786385             97.786385   \n",
       "\n",
       "        weekly  weekly_lower  weekly_upper     yearly  yearly_lower  \\\n",
       "443   8.542288      8.542288      8.542288  48.312376     48.312376   \n",
       "444 -16.455250    -16.455250    -16.455250  43.932662     43.932662   \n",
       "445 -40.062605    -40.062605    -40.062605  39.564158     39.564158   \n",
       "446   6.720439      6.720439      6.720439  35.233340     35.233340   \n",
       "447  66.825393     66.825393     66.825393  30.960992     30.960992   \n",
       "\n",
       "     yearly_upper  multiplicative_terms  multiplicative_terms_lower  \\\n",
       "443     48.312376                   0.0                         0.0   \n",
       "444     43.932662                   0.0                         0.0   \n",
       "445     39.564158                   0.0                         0.0   \n",
       "446     35.233340                   0.0                         0.0   \n",
       "447     30.960992                   0.0                         0.0   \n",
       "\n",
       "     multiplicative_terms_upper         yhat  \n",
       "443                         0.0  7922.772508  \n",
       "444                         0.0  7900.920156  \n",
       "445                         0.0  7880.469197  \n",
       "446                         0.0  7930.446322  \n",
       "447                         0.0  7993.803828  "
      ]
     },
     "execution_count": 12,
     "metadata": {},
     "output_type": "execute_result"
    }
   ],
   "source": [
    "forecast.tail()"
   ]
  },
  {
   "cell_type": "code",
   "execution_count": 1,
   "metadata": {
    "collapsed": true
   },
   "outputs": [],
   "source": [
    "import matplotlib.pyplot as plt"
   ]
  },
  {
   "cell_type": "code",
   "execution_count": 13,
   "metadata": {},
   "outputs": [
    {
     "data": {
      "image/png": "[encoded data removed]",
      "text/plain": [
       "<Figure size 720x432 with 1 Axes>"
      ]
     },
     "execution_count": 13,
     "metadata": {},
     "output_type": "execute_result"
    },
    {
     "data": {
      "image/png": "[encoded data removed]",
      "text/plain": [
       "<Figure size 720x432 with 1 Axes>"
      ]
     },
     "metadata": {},
     "output_type": "display_data"
    }
   ],
   "source": [
    "m.plot(forecast)"
   ]
  },
  {
   "cell_type": "code",
   "execution_count": null,
   "metadata": {
    "collapsed": true
   },
   "outputs": [],
   "source": [
    "plt"
   ]
  }
 ],
 "metadata": {
  "kernelspec": {
   "display_name": "Python 3",
   "language": "python",
   "name": "python3"
  },
  "language_info": {
   "codemirror_mode": {
    "name": "ipython",
    "version": 3
   },
   "file_extension": ".py",
   "mimetype": "text/x-python",
   "name": "python",
   "nbconvert_exporter": "python",
   "pygments_lexer": "ipython3",
   "version": "3.6.8"
  }
 },
 "nbformat": 4,
 "nbformat_minor": 2
}
