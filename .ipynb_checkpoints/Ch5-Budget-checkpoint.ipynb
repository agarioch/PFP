{
 "cells": [
  {
   "cell_type": "markdown",
   "metadata": {},
   "source": [
    "Dates can be difficult to work with in Python as there are different formats used by different packages.\n",
    "\n",
    "Python ships with datetime..."
   ]
  },
  {
   "cell_type": "code",
   "execution_count": 1,
   "metadata": {
    "collapsed": false
   },
   "outputs": [
    {
     "name": "stdout",
     "output_type": "stream",
     "text": [
      "2019-01-06 11:20:42.790828\n",
      "datetime.datetime(2019, 1, 6, 11, 20, 42, 790828)\n",
      "<class 'datetime.datetime'>\n",
      "2019-01-06\n",
      "datetime.date(2019, 1, 6)\n",
      "<class 'datetime.date'>\n"
     ]
    }
   ],
   "source": [
    "import datetime\n",
    "\n",
    "#datetime.datetime\n",
    "date_1 = datetime.datetime.now()\n",
    "print(date_1)\n",
    "print(date_1.__repr__())\n",
    "print(type(date_1))\n",
    "\n",
    "# datetime.date\n",
    "date_2 = datetime.date.today()\n",
    "print(date_2)\n",
    "print(date_2.__repr__())\n",
    "print(type(date_2))"
   ]
  },
  {
   "cell_type": "markdown",
   "metadata": {},
   "source": [
    "Pandas ships with Timestamp that largely behaves like a datetime.datetime object but works better with DataFrames and DateTimeIndexes and comes with features like normalize\n",
    "\n",
    "To convert use the to_datetime function or wrap the object in Timestamp"
   ]
  },
  {
   "cell_type": "code",
   "execution_count": 2,
   "metadata": {
    "collapsed": false
   },
   "outputs": [
    {
     "name": "stdout",
     "output_type": "stream",
     "text": [
      "2019-01-06 11:20:42.790828\n",
      "2019-01-06 11:20:42.790828\n"
     ]
    }
   ],
   "source": [
    "import pandas as pd\n",
    "\n",
    "print(pd.Timestamp(date_1))\n",
    "print(pd.to_datetime(date_1))"
   ]
  },
  {
   "cell_type": "code",
   "execution_count": 5,
   "metadata": {
    "collapsed": false
   },
   "outputs": [
    {
     "data": {
      "text/plain": [
       "Timestamp('1993-06-07 15:16:00')"
      ]
     },
     "execution_count": 5,
     "metadata": {},
     "output_type": "execute_result"
    }
   ],
   "source": [
    "date_3 = pd.Timestamp(1993, 6, 7, 15, 16, 0)\n",
    "date_3"
   ]
  },
  {
   "cell_type": "markdown",
   "metadata": {},
   "source": [
    "Normalizing datetimes means stripping all of the time information and just leaving the date."
   ]
  },
  {
   "cell_type": "code",
   "execution_count": 6,
   "metadata": {
    "collapsed": false
   },
   "outputs": [
    {
     "name": "stdout",
     "output_type": "stream",
     "text": [
      "2019-01-06 11:20:42.790828\n",
      "2019-01-06 11:20:42.790828\n",
      "2019-01-06 00:00:00\n"
     ]
    }
   ],
   "source": [
    "print(date_1)\n",
    "date_1 = pd.Timestamp(date_1)\n",
    "print(date_1)\n",
    "print(date_1.normalize())"
   ]
  },
  {
   "cell_type": "code",
   "execution_count": 9,
   "metadata": {
    "collapsed": false
   },
   "outputs": [
    {
     "name": "stdout",
     "output_type": "stream",
     "text": [
      "2019-01-06 00:00:00\n",
      "2020-01-06 00:00:00\n"
     ]
    }
   ],
   "source": [
    "TODAY = pd.Timestamp('today').normalize()\n",
    "print(TODAY)\n",
    "END = TODAY + datetime.timedelta(days=365)\n",
    "print(END)"
   ]
  },
  {
   "cell_type": "code",
   "execution_count": 10,
   "metadata": {
    "collapsed": false
   },
   "outputs": [
    {
     "name": "stdout",
     "output_type": "stream",
     "text": [
      "Empty DataFrame\n",
      "Columns: []\n",
      "Index: [2019-01-06 00:00:00, 2019-01-07 00:00:00, 2019-01-08 00:00:00, 2019-01-09 00:00:00, 2019-01-10 00:00:00]\n"
     ]
    }
   ],
   "source": [
    "calendar = pd.DataFrame(index = pd.date_range(start=TODAY, end=END))\n",
    "\n",
    "print(calendar.head())"
   ]
  },
  {
   "cell_type": "markdown",
   "metadata": {},
   "source": [
    "the date_range function can accept different date increments by passing offset aliases to the freq argument\n",
    "SM is semi-month-end, MS is month-start"
   ]
  },
  {
   "cell_type": "code",
   "execution_count": 11,
   "metadata": {
    "collapsed": false
   },
   "outputs": [
    {
     "name": "stdout",
     "output_type": "stream",
     "text": [
      "Semi-month end:\n",
      "DatetimeIndex(['2019-01-15', '2019-01-31', '2019-02-15', '2019-02-28',\n",
      "               '2019-03-15', '2019-03-31', '2019-04-15', '2019-04-30',\n",
      "               '2019-05-15', '2019-05-31', '2019-06-15', '2019-06-30',\n",
      "               '2019-07-15', '2019-07-31', '2019-08-15', '2019-08-31',\n",
      "               '2019-09-15', '2019-09-30', '2019-10-15', '2019-10-31',\n",
      "               '2019-11-15', '2019-11-30', '2019-12-15', '2019-12-31'],\n",
      "              dtype='datetime64[ns]', freq='SM-15')\n",
      "\n",
      "\n",
      "Month start:\n",
      "DatetimeIndex(['2019-02-01', '2019-03-01', '2019-04-01', '2019-05-01',\n",
      "               '2019-06-01', '2019-07-01', '2019-08-01', '2019-09-01',\n",
      "               '2019-10-01', '2019-11-01', '2019-12-01', '2020-01-01'],\n",
      "              dtype='datetime64[ns]', freq='MS')\n"
     ]
    }
   ],
   "source": [
    "# semi-month end frequency\n",
    "print('Semi-month end:')\n",
    "sm = pd.date_range(start=TODAY, end = END, freq='SM')\n",
    "print(sm)\n",
    "print('\\n')\n",
    "\n",
    "# month start frequency\n",
    "print('Month start:')\n",
    "ms = pd.date_range(start=TODAY, end=END, freq='MS')\n",
    "print(ms)"
   ]
  },
  {
   "cell_type": "code",
   "execution_count": 12,
   "metadata": {
    "collapsed": false
   },
   "outputs": [
    {
     "name": "stdout",
     "output_type": "stream",
     "text": [
      "            income\n",
      "2019-01-15    1000\n",
      "2019-01-31    1000\n",
      "2019-02-15    1000\n",
      "2019-02-28    1000\n",
      "2019-03-15    1000\n"
     ]
    }
   ],
   "source": [
    "income = pd.DataFrame(\n",
    "    data = {'income': 1000},\n",
    "    index = pd.date_range(start=TODAY, end=END, freq='SM')\n",
    ")\n",
    "print(income.head())"
   ]
  },
  {
   "cell_type": "code",
   "execution_count": 13,
   "metadata": {
    "collapsed": false
   },
   "outputs": [
    {
     "name": "stdout",
     "output_type": "stream",
     "text": [
      "            rent\n",
      "2019-02-01 -1500\n",
      "2019-03-01 -1500\n",
      "2019-04-01 -1500\n",
      "2019-05-01 -1500\n",
      "2019-06-01 -1500\n"
     ]
    }
   ],
   "source": [
    "rent = pd.DataFrame(\n",
    "    data={'rent': -1500},\n",
    "    index = pd.date_range(start=TODAY, end=END, freq='MS')\n",
    ")\n",
    "print(rent.head())"
   ]
  },
  {
   "cell_type": "code",
   "execution_count": 24,
   "metadata": {
    "collapsed": false
   },
   "outputs": [
    {
     "data": {
      "text/html": [
       "<div>\n",
       "<style>\n",
       "    .dataframe thead tr:only-child th {\n",
       "        text-align: right;\n",
       "    }\n",
       "\n",
       "    .dataframe thead th {\n",
       "        text-align: left;\n",
       "    }\n",
       "\n",
       "    .dataframe tbody tr th {\n",
       "        vertical-align: top;\n",
       "    }\n",
       "</style>\n",
       "<table border=\"1\" class=\"dataframe\">\n",
       "  <thead>\n",
       "    <tr style=\"text-align: right;\">\n",
       "      <th></th>\n",
       "      <th>income</th>\n",
       "      <th>rent</th>\n",
       "      <th>income</th>\n",
       "      <th>rent</th>\n",
       "      <th>income</th>\n",
       "      <th>rent</th>\n",
       "      <th>income</th>\n",
       "      <th>rent</th>\n",
       "      <th>income</th>\n",
       "      <th>rent</th>\n",
       "      <th>income</th>\n",
       "      <th>rent</th>\n",
       "      <th>income</th>\n",
       "      <th>rent</th>\n",
       "      <th>income</th>\n",
       "      <th>rent</th>\n",
       "      <th>income</th>\n",
       "      <th>rent</th>\n",
       "      <th>income</th>\n",
       "      <th>rent</th>\n",
       "    </tr>\n",
       "  </thead>\n",
       "  <tbody>\n",
       "    <tr>\n",
       "      <th>2019-01-26</th>\n",
       "      <td>0.0</td>\n",
       "      <td>0.0</td>\n",
       "      <td>0.0</td>\n",
       "      <td>0.0</td>\n",
       "      <td>0.0</td>\n",
       "      <td>0.0</td>\n",
       "      <td>0.0</td>\n",
       "      <td>0.0</td>\n",
       "      <td>0.0</td>\n",
       "      <td>0.0</td>\n",
       "      <td>0.0</td>\n",
       "      <td>0.0</td>\n",
       "      <td>0.0</td>\n",
       "      <td>0.0</td>\n",
       "      <td>0.0</td>\n",
       "      <td>0.0</td>\n",
       "      <td>0.0</td>\n",
       "      <td>0.0</td>\n",
       "      <td>0.0</td>\n",
       "      <td>0.0</td>\n",
       "    </tr>\n",
       "    <tr>\n",
       "      <th>2019-01-27</th>\n",
       "      <td>0.0</td>\n",
       "      <td>0.0</td>\n",
       "      <td>0.0</td>\n",
       "      <td>0.0</td>\n",
       "      <td>0.0</td>\n",
       "      <td>0.0</td>\n",
       "      <td>0.0</td>\n",
       "      <td>0.0</td>\n",
       "      <td>0.0</td>\n",
       "      <td>0.0</td>\n",
       "      <td>0.0</td>\n",
       "      <td>0.0</td>\n",
       "      <td>0.0</td>\n",
       "      <td>0.0</td>\n",
       "      <td>0.0</td>\n",
       "      <td>0.0</td>\n",
       "      <td>0.0</td>\n",
       "      <td>0.0</td>\n",
       "      <td>0.0</td>\n",
       "      <td>0.0</td>\n",
       "    </tr>\n",
       "    <tr>\n",
       "      <th>2019-01-28</th>\n",
       "      <td>0.0</td>\n",
       "      <td>0.0</td>\n",
       "      <td>0.0</td>\n",
       "      <td>0.0</td>\n",
       "      <td>0.0</td>\n",
       "      <td>0.0</td>\n",
       "      <td>0.0</td>\n",
       "      <td>0.0</td>\n",
       "      <td>0.0</td>\n",
       "      <td>0.0</td>\n",
       "      <td>0.0</td>\n",
       "      <td>0.0</td>\n",
       "      <td>0.0</td>\n",
       "      <td>0.0</td>\n",
       "      <td>0.0</td>\n",
       "      <td>0.0</td>\n",
       "      <td>0.0</td>\n",
       "      <td>0.0</td>\n",
       "      <td>0.0</td>\n",
       "      <td>0.0</td>\n",
       "    </tr>\n",
       "    <tr>\n",
       "      <th>2019-01-29</th>\n",
       "      <td>0.0</td>\n",
       "      <td>0.0</td>\n",
       "      <td>0.0</td>\n",
       "      <td>0.0</td>\n",
       "      <td>0.0</td>\n",
       "      <td>0.0</td>\n",
       "      <td>0.0</td>\n",
       "      <td>0.0</td>\n",
       "      <td>0.0</td>\n",
       "      <td>0.0</td>\n",
       "      <td>0.0</td>\n",
       "      <td>0.0</td>\n",
       "      <td>0.0</td>\n",
       "      <td>0.0</td>\n",
       "      <td>0.0</td>\n",
       "      <td>0.0</td>\n",
       "      <td>0.0</td>\n",
       "      <td>0.0</td>\n",
       "      <td>0.0</td>\n",
       "      <td>0.0</td>\n",
       "    </tr>\n",
       "    <tr>\n",
       "      <th>2019-01-30</th>\n",
       "      <td>0.0</td>\n",
       "      <td>0.0</td>\n",
       "      <td>0.0</td>\n",
       "      <td>0.0</td>\n",
       "      <td>0.0</td>\n",
       "      <td>0.0</td>\n",
       "      <td>0.0</td>\n",
       "      <td>0.0</td>\n",
       "      <td>0.0</td>\n",
       "      <td>0.0</td>\n",
       "      <td>0.0</td>\n",
       "      <td>0.0</td>\n",
       "      <td>0.0</td>\n",
       "      <td>0.0</td>\n",
       "      <td>0.0</td>\n",
       "      <td>0.0</td>\n",
       "      <td>0.0</td>\n",
       "      <td>0.0</td>\n",
       "      <td>0.0</td>\n",
       "      <td>0.0</td>\n",
       "    </tr>\n",
       "    <tr>\n",
       "      <th>2019-01-31</th>\n",
       "      <td>1000.0</td>\n",
       "      <td>0.0</td>\n",
       "      <td>1000.0</td>\n",
       "      <td>0.0</td>\n",
       "      <td>1000.0</td>\n",
       "      <td>0.0</td>\n",
       "      <td>1000.0</td>\n",
       "      <td>0.0</td>\n",
       "      <td>1000.0</td>\n",
       "      <td>0.0</td>\n",
       "      <td>1000.0</td>\n",
       "      <td>0.0</td>\n",
       "      <td>1000.0</td>\n",
       "      <td>0.0</td>\n",
       "      <td>1000.0</td>\n",
       "      <td>0.0</td>\n",
       "      <td>1000.0</td>\n",
       "      <td>0.0</td>\n",
       "      <td>1000.0</td>\n",
       "      <td>0.0</td>\n",
       "    </tr>\n",
       "  </tbody>\n",
       "</table>\n",
       "</div>"
      ],
      "text/plain": [
       "            income  rent  income  rent  income  rent  income  rent  income  \\\n",
       "2019-01-26     0.0   0.0     0.0   0.0     0.0   0.0     0.0   0.0     0.0   \n",
       "2019-01-27     0.0   0.0     0.0   0.0     0.0   0.0     0.0   0.0     0.0   \n",
       "2019-01-28     0.0   0.0     0.0   0.0     0.0   0.0     0.0   0.0     0.0   \n",
       "2019-01-29     0.0   0.0     0.0   0.0     0.0   0.0     0.0   0.0     0.0   \n",
       "2019-01-30     0.0   0.0     0.0   0.0     0.0   0.0     0.0   0.0     0.0   \n",
       "2019-01-31  1000.0   0.0  1000.0   0.0  1000.0   0.0  1000.0   0.0  1000.0   \n",
       "\n",
       "            rent  income  rent  income  rent  income  rent  income  rent  \\\n",
       "2019-01-26   0.0     0.0   0.0     0.0   0.0     0.0   0.0     0.0   0.0   \n",
       "2019-01-27   0.0     0.0   0.0     0.0   0.0     0.0   0.0     0.0   0.0   \n",
       "2019-01-28   0.0     0.0   0.0     0.0   0.0     0.0   0.0     0.0   0.0   \n",
       "2019-01-29   0.0     0.0   0.0     0.0   0.0     0.0   0.0     0.0   0.0   \n",
       "2019-01-30   0.0     0.0   0.0     0.0   0.0     0.0   0.0     0.0   0.0   \n",
       "2019-01-31   0.0  1000.0   0.0  1000.0   0.0  1000.0   0.0  1000.0   0.0   \n",
       "\n",
       "            income  rent  \n",
       "2019-01-26     0.0   0.0  \n",
       "2019-01-27     0.0   0.0  \n",
       "2019-01-28     0.0   0.0  \n",
       "2019-01-29     0.0   0.0  \n",
       "2019-01-30     0.0   0.0  \n",
       "2019-01-31  1000.0   0.0  "
      ]
     },
     "execution_count": 24,
     "metadata": {},
     "output_type": "execute_result"
    }
   ],
   "source": [
    "calendar = pd.concat([calendar, income], axis=1).fillna(0)\n",
    "calendar = pd.concat([calendar, rent], axis=1).fillna(0)"
   ]
  },
  {
   "cell_type": "code",
   "execution_count": 39,
   "metadata": {
    "collapsed": false
   },
   "outputs": [],
   "source": [
    "calendar = calendar.iloc[:,:2]"
   ]
  },
  {
   "cell_type": "code",
   "execution_count": 54,
   "metadata": {
    "collapsed": false
   },
   "outputs": [
    {
     "data": {
      "text/html": [
       "<div>\n",
       "<style>\n",
       "    .dataframe thead tr:only-child th {\n",
       "        text-align: right;\n",
       "    }\n",
       "\n",
       "    .dataframe thead th {\n",
       "        text-align: left;\n",
       "    }\n",
       "\n",
       "    .dataframe tbody tr th {\n",
       "        vertical-align: top;\n",
       "    }\n",
       "</style>\n",
       "<table border=\"1\" class=\"dataframe\">\n",
       "  <thead>\n",
       "    <tr style=\"text-align: right;\">\n",
       "      <th></th>\n",
       "      <th>income</th>\n",
       "      <th>rent</th>\n",
       "    </tr>\n",
       "  </thead>\n",
       "  <tbody>\n",
       "    <tr>\n",
       "      <th>2019-01-15</th>\n",
       "      <td>1000.0</td>\n",
       "      <td>0.0</td>\n",
       "    </tr>\n",
       "    <tr>\n",
       "      <th>2019-01-31</th>\n",
       "      <td>1000.0</td>\n",
       "      <td>0.0</td>\n",
       "    </tr>\n",
       "    <tr>\n",
       "      <th>2019-02-01</th>\n",
       "      <td>0.0</td>\n",
       "      <td>-1500.0</td>\n",
       "    </tr>\n",
       "    <tr>\n",
       "      <th>2019-02-15</th>\n",
       "      <td>1000.0</td>\n",
       "      <td>0.0</td>\n",
       "    </tr>\n",
       "    <tr>\n",
       "      <th>2019-02-28</th>\n",
       "      <td>1000.0</td>\n",
       "      <td>0.0</td>\n",
       "    </tr>\n",
       "    <tr>\n",
       "      <th>2019-03-01</th>\n",
       "      <td>0.0</td>\n",
       "      <td>-1500.0</td>\n",
       "    </tr>\n",
       "    <tr>\n",
       "      <th>2019-03-15</th>\n",
       "      <td>1000.0</td>\n",
       "      <td>0.0</td>\n",
       "    </tr>\n",
       "    <tr>\n",
       "      <th>2019-03-31</th>\n",
       "      <td>1000.0</td>\n",
       "      <td>0.0</td>\n",
       "    </tr>\n",
       "    <tr>\n",
       "      <th>2019-04-01</th>\n",
       "      <td>0.0</td>\n",
       "      <td>-1500.0</td>\n",
       "    </tr>\n",
       "    <tr>\n",
       "      <th>2019-04-15</th>\n",
       "      <td>1000.0</td>\n",
       "      <td>0.0</td>\n",
       "    </tr>\n",
       "    <tr>\n",
       "      <th>2019-04-30</th>\n",
       "      <td>1000.0</td>\n",
       "      <td>0.0</td>\n",
       "    </tr>\n",
       "    <tr>\n",
       "      <th>2019-05-01</th>\n",
       "      <td>0.0</td>\n",
       "      <td>-1500.0</td>\n",
       "    </tr>\n",
       "    <tr>\n",
       "      <th>2019-05-15</th>\n",
       "      <td>1000.0</td>\n",
       "      <td>0.0</td>\n",
       "    </tr>\n",
       "    <tr>\n",
       "      <th>2019-05-31</th>\n",
       "      <td>1000.0</td>\n",
       "      <td>0.0</td>\n",
       "    </tr>\n",
       "    <tr>\n",
       "      <th>2019-06-01</th>\n",
       "      <td>0.0</td>\n",
       "      <td>-1500.0</td>\n",
       "    </tr>\n",
       "    <tr>\n",
       "      <th>2019-06-15</th>\n",
       "      <td>1000.0</td>\n",
       "      <td>0.0</td>\n",
       "    </tr>\n",
       "    <tr>\n",
       "      <th>2019-06-30</th>\n",
       "      <td>1000.0</td>\n",
       "      <td>0.0</td>\n",
       "    </tr>\n",
       "    <tr>\n",
       "      <th>2019-07-01</th>\n",
       "      <td>0.0</td>\n",
       "      <td>-1500.0</td>\n",
       "    </tr>\n",
       "    <tr>\n",
       "      <th>2019-07-15</th>\n",
       "      <td>1000.0</td>\n",
       "      <td>0.0</td>\n",
       "    </tr>\n",
       "    <tr>\n",
       "      <th>2019-07-31</th>\n",
       "      <td>1000.0</td>\n",
       "      <td>0.0</td>\n",
       "    </tr>\n",
       "    <tr>\n",
       "      <th>2019-08-01</th>\n",
       "      <td>0.0</td>\n",
       "      <td>-1500.0</td>\n",
       "    </tr>\n",
       "    <tr>\n",
       "      <th>2019-08-15</th>\n",
       "      <td>1000.0</td>\n",
       "      <td>0.0</td>\n",
       "    </tr>\n",
       "    <tr>\n",
       "      <th>2019-08-31</th>\n",
       "      <td>1000.0</td>\n",
       "      <td>0.0</td>\n",
       "    </tr>\n",
       "    <tr>\n",
       "      <th>2019-09-01</th>\n",
       "      <td>0.0</td>\n",
       "      <td>-1500.0</td>\n",
       "    </tr>\n",
       "    <tr>\n",
       "      <th>2019-09-15</th>\n",
       "      <td>1000.0</td>\n",
       "      <td>0.0</td>\n",
       "    </tr>\n",
       "    <tr>\n",
       "      <th>2019-09-30</th>\n",
       "      <td>1000.0</td>\n",
       "      <td>0.0</td>\n",
       "    </tr>\n",
       "    <tr>\n",
       "      <th>2019-10-01</th>\n",
       "      <td>0.0</td>\n",
       "      <td>-1500.0</td>\n",
       "    </tr>\n",
       "    <tr>\n",
       "      <th>2019-10-15</th>\n",
       "      <td>1000.0</td>\n",
       "      <td>0.0</td>\n",
       "    </tr>\n",
       "    <tr>\n",
       "      <th>2019-10-31</th>\n",
       "      <td>1000.0</td>\n",
       "      <td>0.0</td>\n",
       "    </tr>\n",
       "    <tr>\n",
       "      <th>2019-11-01</th>\n",
       "      <td>0.0</td>\n",
       "      <td>-1500.0</td>\n",
       "    </tr>\n",
       "    <tr>\n",
       "      <th>2019-11-15</th>\n",
       "      <td>1000.0</td>\n",
       "      <td>0.0</td>\n",
       "    </tr>\n",
       "    <tr>\n",
       "      <th>2019-11-30</th>\n",
       "      <td>1000.0</td>\n",
       "      <td>0.0</td>\n",
       "    </tr>\n",
       "    <tr>\n",
       "      <th>2019-12-01</th>\n",
       "      <td>0.0</td>\n",
       "      <td>-1500.0</td>\n",
       "    </tr>\n",
       "    <tr>\n",
       "      <th>2019-12-15</th>\n",
       "      <td>1000.0</td>\n",
       "      <td>0.0</td>\n",
       "    </tr>\n",
       "    <tr>\n",
       "      <th>2019-12-31</th>\n",
       "      <td>1000.0</td>\n",
       "      <td>0.0</td>\n",
       "    </tr>\n",
       "    <tr>\n",
       "      <th>2020-01-01</th>\n",
       "      <td>0.0</td>\n",
       "      <td>-1500.0</td>\n",
       "    </tr>\n",
       "  </tbody>\n",
       "</table>\n",
       "</div>"
      ],
      "text/plain": [
       "            income    rent\n",
       "2019-01-15  1000.0     0.0\n",
       "2019-01-31  1000.0     0.0\n",
       "2019-02-01     0.0 -1500.0\n",
       "2019-02-15  1000.0     0.0\n",
       "2019-02-28  1000.0     0.0\n",
       "2019-03-01     0.0 -1500.0\n",
       "2019-03-15  1000.0     0.0\n",
       "2019-03-31  1000.0     0.0\n",
       "2019-04-01     0.0 -1500.0\n",
       "2019-04-15  1000.0     0.0\n",
       "2019-04-30  1000.0     0.0\n",
       "2019-05-01     0.0 -1500.0\n",
       "2019-05-15  1000.0     0.0\n",
       "2019-05-31  1000.0     0.0\n",
       "2019-06-01     0.0 -1500.0\n",
       "2019-06-15  1000.0     0.0\n",
       "2019-06-30  1000.0     0.0\n",
       "2019-07-01     0.0 -1500.0\n",
       "2019-07-15  1000.0     0.0\n",
       "2019-07-31  1000.0     0.0\n",
       "2019-08-01     0.0 -1500.0\n",
       "2019-08-15  1000.0     0.0\n",
       "2019-08-31  1000.0     0.0\n",
       "2019-09-01     0.0 -1500.0\n",
       "2019-09-15  1000.0     0.0\n",
       "2019-09-30  1000.0     0.0\n",
       "2019-10-01     0.0 -1500.0\n",
       "2019-10-15  1000.0     0.0\n",
       "2019-10-31  1000.0     0.0\n",
       "2019-11-01     0.0 -1500.0\n",
       "2019-11-15  1000.0     0.0\n",
       "2019-11-30  1000.0     0.0\n",
       "2019-12-01     0.0 -1500.0\n",
       "2019-12-15  1000.0     0.0\n",
       "2019-12-31  1000.0     0.0\n",
       "2020-01-01     0.0 -1500.0"
      ]
     },
     "execution_count": 54,
     "metadata": {},
     "output_type": "execute_result"
    }
   ],
   "source": [
    "calendar[(calendar.income > 0) | (calendar.rent < 0)]"
   ]
  },
  {
   "cell_type": "code",
   "execution_count": 56,
   "metadata": {
    "collapsed": false
   },
   "outputs": [
    {
     "data": {
      "text/html": [
       "<div>\n",
       "<style>\n",
       "    .dataframe thead tr:only-child th {\n",
       "        text-align: right;\n",
       "    }\n",
       "\n",
       "    .dataframe thead th {\n",
       "        text-align: left;\n",
       "    }\n",
       "\n",
       "    .dataframe tbody tr th {\n",
       "        vertical-align: top;\n",
       "    }\n",
       "</style>\n",
       "<table border=\"1\" class=\"dataframe\">\n",
       "  <thead>\n",
       "    <tr style=\"text-align: right;\">\n",
       "      <th></th>\n",
       "      <th>income</th>\n",
       "      <th>rent</th>\n",
       "    </tr>\n",
       "  </thead>\n",
       "  <tbody>\n",
       "    <tr>\n",
       "      <th>2019-03-30</th>\n",
       "      <td>0.0</td>\n",
       "      <td>0.0</td>\n",
       "    </tr>\n",
       "    <tr>\n",
       "      <th>2019-03-31</th>\n",
       "      <td>1000.0</td>\n",
       "      <td>0.0</td>\n",
       "    </tr>\n",
       "    <tr>\n",
       "      <th>2019-04-01</th>\n",
       "      <td>0.0</td>\n",
       "      <td>-1500.0</td>\n",
       "    </tr>\n",
       "    <tr>\n",
       "      <th>2019-04-02</th>\n",
       "      <td>0.0</td>\n",
       "      <td>0.0</td>\n",
       "    </tr>\n",
       "  </tbody>\n",
       "</table>\n",
       "</div>"
      ],
      "text/plain": [
       "            income    rent\n",
       "2019-03-30     0.0     0.0\n",
       "2019-03-31  1000.0     0.0\n",
       "2019-04-01     0.0 -1500.0\n",
       "2019-04-02     0.0     0.0"
      ]
     },
     "execution_count": 56,
     "metadata": {},
     "output_type": "execute_result"
    }
   ],
   "source": [
    "calendar.loc[\n",
    "    (calendar.index >= '2019-03-30') &\n",
    "    (calendar.index <= '2019-04-02')\n",
    "]"
   ]
  },
  {
   "cell_type": "code",
   "execution_count": 57,
   "metadata": {
    "collapsed": false
   },
   "outputs": [
    {
     "data": {
      "text/html": [
       "<div>\n",
       "<style>\n",
       "    .dataframe thead tr:only-child th {\n",
       "        text-align: right;\n",
       "    }\n",
       "\n",
       "    .dataframe thead th {\n",
       "        text-align: left;\n",
       "    }\n",
       "\n",
       "    .dataframe tbody tr th {\n",
       "        vertical-align: top;\n",
       "    }\n",
       "</style>\n",
       "<table border=\"1\" class=\"dataframe\">\n",
       "  <thead>\n",
       "    <tr style=\"text-align: right;\">\n",
       "      <th></th>\n",
       "      <th>income</th>\n",
       "      <th>rent</th>\n",
       "      <th>total</th>\n",
       "      <th>cum_total</th>\n",
       "    </tr>\n",
       "  </thead>\n",
       "  <tbody>\n",
       "    <tr>\n",
       "      <th>2020-01-02</th>\n",
       "      <td>0.0</td>\n",
       "      <td>0.0</td>\n",
       "      <td>0.0</td>\n",
       "      <td>6000.0</td>\n",
       "    </tr>\n",
       "    <tr>\n",
       "      <th>2020-01-03</th>\n",
       "      <td>0.0</td>\n",
       "      <td>0.0</td>\n",
       "      <td>0.0</td>\n",
       "      <td>6000.0</td>\n",
       "    </tr>\n",
       "    <tr>\n",
       "      <th>2020-01-04</th>\n",
       "      <td>0.0</td>\n",
       "      <td>0.0</td>\n",
       "      <td>0.0</td>\n",
       "      <td>6000.0</td>\n",
       "    </tr>\n",
       "    <tr>\n",
       "      <th>2020-01-05</th>\n",
       "      <td>0.0</td>\n",
       "      <td>0.0</td>\n",
       "      <td>0.0</td>\n",
       "      <td>6000.0</td>\n",
       "    </tr>\n",
       "    <tr>\n",
       "      <th>2020-01-06</th>\n",
       "      <td>0.0</td>\n",
       "      <td>0.0</td>\n",
       "      <td>0.0</td>\n",
       "      <td>6000.0</td>\n",
       "    </tr>\n",
       "  </tbody>\n",
       "</table>\n",
       "</div>"
      ],
      "text/plain": [
       "            income  rent  total  cum_total\n",
       "2020-01-02     0.0   0.0    0.0     6000.0\n",
       "2020-01-03     0.0   0.0    0.0     6000.0\n",
       "2020-01-04     0.0   0.0    0.0     6000.0\n",
       "2020-01-05     0.0   0.0    0.0     6000.0\n",
       "2020-01-06     0.0   0.0    0.0     6000.0"
      ]
     },
     "execution_count": 57,
     "metadata": {},
     "output_type": "execute_result"
    }
   ],
   "source": [
    "calendar['total'] = calendar.sum(axis=1)\n",
    "calendar['cum_total'] = calendar['total'].cumsum()\n",
    "calendar.tail()"
   ]
  },
  {
   "cell_type": "markdown",
   "metadata": {},
   "source": [
    "## Visualization"
   ]
  },
  {
   "cell_type": "code",
   "execution_count": 58,
   "metadata": {
    "collapsed": false
   },
   "outputs": [
    {
     "data": {
      "text/plain": [
       "<matplotlib.legend.Legend at 0x11af55080>"
      ]
     },
     "execution_count": 58,
     "metadata": {},
     "output_type": "execute_result"
    },
    {
     "data": {
      "image/png": "[encoded data removed]",
      "text/plain": [
       "<matplotlib.figure.Figure at 0x116f1d978>"
      ]
     },
     "metadata": {
      "needs_background": "light"
     },
     "output_type": "display_data"
    }
   ],
   "source": [
    "from matplotlib import pyplot as plt\n",
    "\n",
    "%matplotlib inline\n",
    "\n",
    "plt.figure(figsize=(10, 5))\n",
    "plt.plot(calendar.index, calendar.total, label='Daily Total')\n",
    "plt.plot(calendar.index, calendar.cum_total, label='Cumulative Total')\n",
    "plt.legend()"
   ]
  },
  {
   "cell_type": "code",
   "execution_count": 60,
   "metadata": {
    "collapsed": false
   },
   "outputs": [
    {
     "name": "stdout",
     "output_type": "stream",
     "text": [
      "            bank\n",
      "2019-01-06  2000\n"
     ]
    }
   ],
   "source": [
    "bank = pd.DataFrame(\n",
    "    data={'bank': 2000},\n",
    "    index=pd.date_range(start=TODAY, end=TODAY)\n",
    ")\n",
    "print(bank)"
   ]
  },
  {
   "cell_type": "code",
   "execution_count": 61,
   "metadata": {
    "collapsed": true
   },
   "outputs": [],
   "source": [
    "calendar = pd.concat([calendar, bank], axis=1).fillna(0)"
   ]
  },
  {
   "cell_type": "code",
   "execution_count": 62,
   "metadata": {
    "collapsed": true
   },
   "outputs": [],
   "source": [
    "def update_total(df):\n",
    "    '''recalculates total & cumulative total of\n",
    "    income and expenses in budget calendar'''\n",
    "    # check to see if total columns exist in df\n",
    "    if df.columns.isin(['total', 'cum_total']).any():\n",
    "        # if they do exist set to 0\n",
    "        df['total'] = 0\n",
    "        df['cum_total'] = 0\n",
    "    # recalculate total and cumulative total\n",
    "    df['total'] = df.sum(axis=1)\n",
    "    df['cum_total'] = df['total'].cumsum()\n",
    "    return df"
   ]
  },
  {
   "cell_type": "code",
   "execution_count": 63,
   "metadata": {
    "collapsed": true
   },
   "outputs": [],
   "source": [
    "calendar = update_total(calendar)"
   ]
  },
  {
   "cell_type": "code",
   "execution_count": 64,
   "metadata": {
    "collapsed": false
   },
   "outputs": [
    {
     "data": {
      "text/html": [
       "<div>\n",
       "<style>\n",
       "    .dataframe thead tr:only-child th {\n",
       "        text-align: right;\n",
       "    }\n",
       "\n",
       "    .dataframe thead th {\n",
       "        text-align: left;\n",
       "    }\n",
       "\n",
       "    .dataframe tbody tr th {\n",
       "        vertical-align: top;\n",
       "    }\n",
       "</style>\n",
       "<table border=\"1\" class=\"dataframe\">\n",
       "  <thead>\n",
       "    <tr style=\"text-align: right;\">\n",
       "      <th></th>\n",
       "      <th>income</th>\n",
       "      <th>rent</th>\n",
       "      <th>total</th>\n",
       "      <th>cum_total</th>\n",
       "      <th>bank</th>\n",
       "    </tr>\n",
       "  </thead>\n",
       "  <tbody>\n",
       "    <tr>\n",
       "      <th>2020-01-02</th>\n",
       "      <td>0.0</td>\n",
       "      <td>0.0</td>\n",
       "      <td>0.0</td>\n",
       "      <td>8000.0</td>\n",
       "      <td>0.0</td>\n",
       "    </tr>\n",
       "    <tr>\n",
       "      <th>2020-01-03</th>\n",
       "      <td>0.0</td>\n",
       "      <td>0.0</td>\n",
       "      <td>0.0</td>\n",
       "      <td>8000.0</td>\n",
       "      <td>0.0</td>\n",
       "    </tr>\n",
       "    <tr>\n",
       "      <th>2020-01-04</th>\n",
       "      <td>0.0</td>\n",
       "      <td>0.0</td>\n",
       "      <td>0.0</td>\n",
       "      <td>8000.0</td>\n",
       "      <td>0.0</td>\n",
       "    </tr>\n",
       "    <tr>\n",
       "      <th>2020-01-05</th>\n",
       "      <td>0.0</td>\n",
       "      <td>0.0</td>\n",
       "      <td>0.0</td>\n",
       "      <td>8000.0</td>\n",
       "      <td>0.0</td>\n",
       "    </tr>\n",
       "    <tr>\n",
       "      <th>2020-01-06</th>\n",
       "      <td>0.0</td>\n",
       "      <td>0.0</td>\n",
       "      <td>0.0</td>\n",
       "      <td>8000.0</td>\n",
       "      <td>0.0</td>\n",
       "    </tr>\n",
       "  </tbody>\n",
       "</table>\n",
       "</div>"
      ],
      "text/plain": [
       "            income  rent  total  cum_total  bank\n",
       "2020-01-02     0.0   0.0    0.0     8000.0   0.0\n",
       "2020-01-03     0.0   0.0    0.0     8000.0   0.0\n",
       "2020-01-04     0.0   0.0    0.0     8000.0   0.0\n",
       "2020-01-05     0.0   0.0    0.0     8000.0   0.0\n",
       "2020-01-06     0.0   0.0    0.0     8000.0   0.0"
      ]
     },
     "execution_count": 64,
     "metadata": {},
     "output_type": "execute_result"
    }
   ],
   "source": [
    "calendar.tail()"
   ]
  },
  {
   "cell_type": "code",
   "execution_count": 65,
   "metadata": {
    "collapsed": true
   },
   "outputs": [],
   "source": [
    "def plot_budget(df):\n",
    "    plt.figure(figsize=(10, 5))\n",
    "    plt.plot(df.index, df.total, label = 'Daily Total')\n",
    "    plt.plot(df.index, df.cum_total, label='Cumulative Total')\n",
    "    plt.legend()"
   ]
  },
  {
   "cell_type": "code",
   "execution_count": 66,
   "metadata": {
    "collapsed": false
   },
   "outputs": [
    {
     "data": {
      "image/png": "[encoded data removed]",
      "text/plain": [
       "<matplotlib.figure.Figure at 0x11afb1908>"
      ]
     },
     "metadata": {
      "needs_background": "light"
     },
     "output_type": "display_data"
    }
   ],
   "source": [
    "plot_budget(calendar)"
   ]
  },
  {
   "cell_type": "code",
   "execution_count": 68,
   "metadata": {
    "collapsed": false
   },
   "outputs": [
    {
     "name": "stdout",
     "output_type": "stream",
     "text": [
      "            vacation\n",
      "2019-04-13     -2500\n"
     ]
    }
   ],
   "source": [
    "vacation = pd.DataFrame(\n",
    "    data =  {'vacation': -2500},\n",
    "    index = [pd.Timestamp('2019-04-13').normalize()]\n",
    ")\n",
    "print(vacation)"
   ]
  },
  {
   "cell_type": "code",
   "execution_count": 70,
   "metadata": {
    "collapsed": false
   },
   "outputs": [
    {
     "data": {
      "image/png": "[encoded data removed]",
      "text/plain": [
       "<matplotlib.figure.Figure at 0x11b0d1ac8>"
      ]
     },
     "metadata": {
      "needs_background": "light"
     },
     "output_type": "display_data"
    }
   ],
   "source": [
    "calendar = pd.concat([calendar, vacation], axis=1).fillna(0)\n",
    "\n",
    "calendar = update_total(calendar)\n",
    "\n",
    "plot_budget(calendar)"
   ]
  },
  {
   "cell_type": "code",
   "execution_count": 71,
   "metadata": {
    "collapsed": true
   },
   "outputs": [],
   "source": [
    "calendar = calendar.drop('vacation', axis=1)"
   ]
  },
  {
   "cell_type": "code",
   "execution_count": 73,
   "metadata": {
    "collapsed": true
   },
   "outputs": [],
   "source": [
    "frequency = 'every third monday until december 10th'\n",
    "frequency_2 = 'every weekday'"
   ]
  },
  {
   "cell_type": "markdown",
   "metadata": {},
   "source": [
    "Recurrent is a library that can help to generate pandas offset aliases"
   ]
  },
  {
   "cell_type": "code",
   "execution_count": 120,
   "metadata": {
    "collapsed": false
   },
   "outputs": [
    {
     "data": {
      "text/plain": [
       "'RRULE:BYDAY=FR,SU;INTERVAL=1;FREQ=WEEKLY'"
      ]
     },
     "execution_count": 120,
     "metadata": {},
     "output_type": "execute_result"
    }
   ],
   "source": [
    "from recurrent import RecurringEvent\n",
    "\n",
    "r = RecurringEvent()\n",
    "r.parse(frequency)"
   ]
  },
  {
   "cell_type": "code",
   "execution_count": 122,
   "metadata": {
    "collapsed": false
   },
   "outputs": [
    {
     "data": {
      "text/plain": [
       "'RRULE:BYDAY=3WE;INTERVAL=1;FREQ=MONTHLY;UNTIL=20190708'"
      ]
     },
     "execution_count": 122,
     "metadata": {},
     "output_type": "execute_result"
    }
   ],
   "source": [
    "schedule = 'third wednesday of every month until july 8th'\n",
    "r.parse(schedule)"
   ]
  },
  {
   "cell_type": "code",
   "execution_count": 75,
   "metadata": {
    "collapsed": false
   },
   "outputs": [
    {
     "data": {
      "text/plain": [
       "'RRULE:BYDAY=MO,TU,WE,TH,FR;INTERVAL=1;FREQ=WEEKLY'"
      ]
     },
     "execution_count": 75,
     "metadata": {},
     "output_type": "execute_result"
    }
   ],
   "source": [
    "r.parse(frequency_2)"
   ]
  },
  {
   "cell_type": "code",
   "execution_count": 123,
   "metadata": {
    "collapsed": false
   },
   "outputs": [
    {
     "data": {
      "text/plain": [
       "<dateutil.rrule.rrule at 0x11b760710>"
      ]
     },
     "execution_count": 123,
     "metadata": {},
     "output_type": "execute_result"
    }
   ],
   "source": [
    "rr2 = rrule.rrulestr(r.get_RFC_rrule())\n",
    "rr2"
   ]
  },
  {
   "cell_type": "code",
   "execution_count": 124,
   "metadata": {
    "collapsed": false
   },
   "outputs": [
    {
     "data": {
      "text/plain": [
       "[datetime.datetime(2019, 1, 16, 16, 7, 47),\n",
       " datetime.datetime(2019, 2, 20, 16, 7, 47),\n",
       " datetime.datetime(2019, 3, 20, 16, 7, 47),\n",
       " datetime.datetime(2019, 4, 17, 16, 7, 47),\n",
       " datetime.datetime(2019, 5, 15, 16, 7, 47),\n",
       " datetime.datetime(2019, 6, 19, 16, 7, 47)]"
      ]
     },
     "execution_count": 124,
     "metadata": {},
     "output_type": "execute_result"
    }
   ],
   "source": [
    "rr2.between(TODAY, END)"
   ]
  },
  {
   "cell_type": "code",
   "execution_count": 77,
   "metadata": {
    "collapsed": false
   },
   "outputs": [],
   "source": [
    "from dateutil import rrule"
   ]
  },
  {
   "cell_type": "code",
   "execution_count": 80,
   "metadata": {
    "collapsed": false
   },
   "outputs": [
    {
     "data": {
      "text/plain": [
       "<dateutil.rrule.rrule at 0x11b31d2b0>"
      ]
     },
     "execution_count": 80,
     "metadata": {},
     "output_type": "execute_result"
    }
   ],
   "source": [
    "rr = rrule.rrulestr(r.get_RFC_rrule())\n",
    "rr"
   ]
  },
  {
   "cell_type": "code",
   "execution_count": 81,
   "metadata": {
    "collapsed": false
   },
   "outputs": [
    {
     "data": {
      "text/plain": [
       "[datetime.datetime(2019, 1, 7, 15, 12, 51),\n",
       " datetime.datetime(2019, 1, 8, 15, 12, 51),\n",
       " datetime.datetime(2019, 1, 9, 15, 12, 51),\n",
       " datetime.datetime(2019, 1, 10, 15, 12, 51),\n",
       " datetime.datetime(2019, 1, 11, 15, 12, 51),\n",
       " datetime.datetime(2019, 1, 14, 15, 12, 51),\n",
       " datetime.datetime(2019, 1, 15, 15, 12, 51),\n",
       " datetime.datetime(2019, 1, 16, 15, 12, 51),\n",
       " datetime.datetime(2019, 1, 17, 15, 12, 51),\n",
       " datetime.datetime(2019, 1, 18, 15, 12, 51),\n",
       " datetime.datetime(2019, 1, 21, 15, 12, 51),\n",
       " datetime.datetime(2019, 1, 22, 15, 12, 51),\n",
       " datetime.datetime(2019, 1, 23, 15, 12, 51),\n",
       " datetime.datetime(2019, 1, 24, 15, 12, 51),\n",
       " datetime.datetime(2019, 1, 25, 15, 12, 51),\n",
       " datetime.datetime(2019, 1, 28, 15, 12, 51),\n",
       " datetime.datetime(2019, 1, 29, 15, 12, 51),\n",
       " datetime.datetime(2019, 1, 30, 15, 12, 51),\n",
       " datetime.datetime(2019, 1, 31, 15, 12, 51),\n",
       " datetime.datetime(2019, 2, 1, 15, 12, 51),\n",
       " datetime.datetime(2019, 2, 4, 15, 12, 51),\n",
       " datetime.datetime(2019, 2, 5, 15, 12, 51),\n",
       " datetime.datetime(2019, 2, 6, 15, 12, 51),\n",
       " datetime.datetime(2019, 2, 7, 15, 12, 51),\n",
       " datetime.datetime(2019, 2, 8, 15, 12, 51),\n",
       " datetime.datetime(2019, 2, 11, 15, 12, 51),\n",
       " datetime.datetime(2019, 2, 12, 15, 12, 51),\n",
       " datetime.datetime(2019, 2, 13, 15, 12, 51),\n",
       " datetime.datetime(2019, 2, 14, 15, 12, 51),\n",
       " datetime.datetime(2019, 2, 15, 15, 12, 51),\n",
       " datetime.datetime(2019, 2, 18, 15, 12, 51),\n",
       " datetime.datetime(2019, 2, 19, 15, 12, 51),\n",
       " datetime.datetime(2019, 2, 20, 15, 12, 51),\n",
       " datetime.datetime(2019, 2, 21, 15, 12, 51),\n",
       " datetime.datetime(2019, 2, 22, 15, 12, 51),\n",
       " datetime.datetime(2019, 2, 25, 15, 12, 51),\n",
       " datetime.datetime(2019, 2, 26, 15, 12, 51),\n",
       " datetime.datetime(2019, 2, 27, 15, 12, 51),\n",
       " datetime.datetime(2019, 2, 28, 15, 12, 51),\n",
       " datetime.datetime(2019, 3, 1, 15, 12, 51),\n",
       " datetime.datetime(2019, 3, 4, 15, 12, 51),\n",
       " datetime.datetime(2019, 3, 5, 15, 12, 51),\n",
       " datetime.datetime(2019, 3, 6, 15, 12, 51),\n",
       " datetime.datetime(2019, 3, 7, 15, 12, 51),\n",
       " datetime.datetime(2019, 3, 8, 15, 12, 51),\n",
       " datetime.datetime(2019, 3, 11, 15, 12, 51),\n",
       " datetime.datetime(2019, 3, 12, 15, 12, 51),\n",
       " datetime.datetime(2019, 3, 13, 15, 12, 51),\n",
       " datetime.datetime(2019, 3, 14, 15, 12, 51),\n",
       " datetime.datetime(2019, 3, 15, 15, 12, 51),\n",
       " datetime.datetime(2019, 3, 18, 15, 12, 51),\n",
       " datetime.datetime(2019, 3, 19, 15, 12, 51),\n",
       " datetime.datetime(2019, 3, 20, 15, 12, 51),\n",
       " datetime.datetime(2019, 3, 21, 15, 12, 51),\n",
       " datetime.datetime(2019, 3, 22, 15, 12, 51),\n",
       " datetime.datetime(2019, 3, 25, 15, 12, 51),\n",
       " datetime.datetime(2019, 3, 26, 15, 12, 51),\n",
       " datetime.datetime(2019, 3, 27, 15, 12, 51),\n",
       " datetime.datetime(2019, 3, 28, 15, 12, 51),\n",
       " datetime.datetime(2019, 3, 29, 15, 12, 51),\n",
       " datetime.datetime(2019, 4, 1, 15, 12, 51),\n",
       " datetime.datetime(2019, 4, 2, 15, 12, 51),\n",
       " datetime.datetime(2019, 4, 3, 15, 12, 51),\n",
       " datetime.datetime(2019, 4, 4, 15, 12, 51),\n",
       " datetime.datetime(2019, 4, 5, 15, 12, 51),\n",
       " datetime.datetime(2019, 4, 8, 15, 12, 51),\n",
       " datetime.datetime(2019, 4, 9, 15, 12, 51),\n",
       " datetime.datetime(2019, 4, 10, 15, 12, 51),\n",
       " datetime.datetime(2019, 4, 11, 15, 12, 51),\n",
       " datetime.datetime(2019, 4, 12, 15, 12, 51),\n",
       " datetime.datetime(2019, 4, 15, 15, 12, 51),\n",
       " datetime.datetime(2019, 4, 16, 15, 12, 51),\n",
       " datetime.datetime(2019, 4, 17, 15, 12, 51),\n",
       " datetime.datetime(2019, 4, 18, 15, 12, 51),\n",
       " datetime.datetime(2019, 4, 19, 15, 12, 51),\n",
       " datetime.datetime(2019, 4, 22, 15, 12, 51),\n",
       " datetime.datetime(2019, 4, 23, 15, 12, 51),\n",
       " datetime.datetime(2019, 4, 24, 15, 12, 51),\n",
       " datetime.datetime(2019, 4, 25, 15, 12, 51),\n",
       " datetime.datetime(2019, 4, 26, 15, 12, 51),\n",
       " datetime.datetime(2019, 4, 29, 15, 12, 51),\n",
       " datetime.datetime(2019, 4, 30, 15, 12, 51),\n",
       " datetime.datetime(2019, 5, 1, 15, 12, 51),\n",
       " datetime.datetime(2019, 5, 2, 15, 12, 51),\n",
       " datetime.datetime(2019, 5, 3, 15, 12, 51),\n",
       " datetime.datetime(2019, 5, 6, 15, 12, 51),\n",
       " datetime.datetime(2019, 5, 7, 15, 12, 51),\n",
       " datetime.datetime(2019, 5, 8, 15, 12, 51),\n",
       " datetime.datetime(2019, 5, 9, 15, 12, 51),\n",
       " datetime.datetime(2019, 5, 10, 15, 12, 51),\n",
       " datetime.datetime(2019, 5, 13, 15, 12, 51),\n",
       " datetime.datetime(2019, 5, 14, 15, 12, 51),\n",
       " datetime.datetime(2019, 5, 15, 15, 12, 51),\n",
       " datetime.datetime(2019, 5, 16, 15, 12, 51),\n",
       " datetime.datetime(2019, 5, 17, 15, 12, 51),\n",
       " datetime.datetime(2019, 5, 20, 15, 12, 51),\n",
       " datetime.datetime(2019, 5, 21, 15, 12, 51),\n",
       " datetime.datetime(2019, 5, 22, 15, 12, 51),\n",
       " datetime.datetime(2019, 5, 23, 15, 12, 51),\n",
       " datetime.datetime(2019, 5, 24, 15, 12, 51),\n",
       " datetime.datetime(2019, 5, 27, 15, 12, 51),\n",
       " datetime.datetime(2019, 5, 28, 15, 12, 51),\n",
       " datetime.datetime(2019, 5, 29, 15, 12, 51),\n",
       " datetime.datetime(2019, 5, 30, 15, 12, 51),\n",
       " datetime.datetime(2019, 5, 31, 15, 12, 51),\n",
       " datetime.datetime(2019, 6, 3, 15, 12, 51),\n",
       " datetime.datetime(2019, 6, 4, 15, 12, 51),\n",
       " datetime.datetime(2019, 6, 5, 15, 12, 51),\n",
       " datetime.datetime(2019, 6, 6, 15, 12, 51),\n",
       " datetime.datetime(2019, 6, 7, 15, 12, 51),\n",
       " datetime.datetime(2019, 6, 10, 15, 12, 51),\n",
       " datetime.datetime(2019, 6, 11, 15, 12, 51),\n",
       " datetime.datetime(2019, 6, 12, 15, 12, 51),\n",
       " datetime.datetime(2019, 6, 13, 15, 12, 51),\n",
       " datetime.datetime(2019, 6, 14, 15, 12, 51),\n",
       " datetime.datetime(2019, 6, 17, 15, 12, 51),\n",
       " datetime.datetime(2019, 6, 18, 15, 12, 51),\n",
       " datetime.datetime(2019, 6, 19, 15, 12, 51),\n",
       " datetime.datetime(2019, 6, 20, 15, 12, 51),\n",
       " datetime.datetime(2019, 6, 21, 15, 12, 51),\n",
       " datetime.datetime(2019, 6, 24, 15, 12, 51),\n",
       " datetime.datetime(2019, 6, 25, 15, 12, 51),\n",
       " datetime.datetime(2019, 6, 26, 15, 12, 51),\n",
       " datetime.datetime(2019, 6, 27, 15, 12, 51),\n",
       " datetime.datetime(2019, 6, 28, 15, 12, 51),\n",
       " datetime.datetime(2019, 7, 1, 15, 12, 51),\n",
       " datetime.datetime(2019, 7, 2, 15, 12, 51),\n",
       " datetime.datetime(2019, 7, 3, 15, 12, 51),\n",
       " datetime.datetime(2019, 7, 4, 15, 12, 51),\n",
       " datetime.datetime(2019, 7, 5, 15, 12, 51),\n",
       " datetime.datetime(2019, 7, 8, 15, 12, 51),\n",
       " datetime.datetime(2019, 7, 9, 15, 12, 51),\n",
       " datetime.datetime(2019, 7, 10, 15, 12, 51),\n",
       " datetime.datetime(2019, 7, 11, 15, 12, 51),\n",
       " datetime.datetime(2019, 7, 12, 15, 12, 51),\n",
       " datetime.datetime(2019, 7, 15, 15, 12, 51),\n",
       " datetime.datetime(2019, 7, 16, 15, 12, 51),\n",
       " datetime.datetime(2019, 7, 17, 15, 12, 51),\n",
       " datetime.datetime(2019, 7, 18, 15, 12, 51),\n",
       " datetime.datetime(2019, 7, 19, 15, 12, 51),\n",
       " datetime.datetime(2019, 7, 22, 15, 12, 51),\n",
       " datetime.datetime(2019, 7, 23, 15, 12, 51),\n",
       " datetime.datetime(2019, 7, 24, 15, 12, 51),\n",
       " datetime.datetime(2019, 7, 25, 15, 12, 51),\n",
       " datetime.datetime(2019, 7, 26, 15, 12, 51),\n",
       " datetime.datetime(2019, 7, 29, 15, 12, 51),\n",
       " datetime.datetime(2019, 7, 30, 15, 12, 51),\n",
       " datetime.datetime(2019, 7, 31, 15, 12, 51),\n",
       " datetime.datetime(2019, 8, 1, 15, 12, 51),\n",
       " datetime.datetime(2019, 8, 2, 15, 12, 51),\n",
       " datetime.datetime(2019, 8, 5, 15, 12, 51),\n",
       " datetime.datetime(2019, 8, 6, 15, 12, 51),\n",
       " datetime.datetime(2019, 8, 7, 15, 12, 51),\n",
       " datetime.datetime(2019, 8, 8, 15, 12, 51),\n",
       " datetime.datetime(2019, 8, 9, 15, 12, 51),\n",
       " datetime.datetime(2019, 8, 12, 15, 12, 51),\n",
       " datetime.datetime(2019, 8, 13, 15, 12, 51),\n",
       " datetime.datetime(2019, 8, 14, 15, 12, 51),\n",
       " datetime.datetime(2019, 8, 15, 15, 12, 51),\n",
       " datetime.datetime(2019, 8, 16, 15, 12, 51),\n",
       " datetime.datetime(2019, 8, 19, 15, 12, 51),\n",
       " datetime.datetime(2019, 8, 20, 15, 12, 51),\n",
       " datetime.datetime(2019, 8, 21, 15, 12, 51),\n",
       " datetime.datetime(2019, 8, 22, 15, 12, 51),\n",
       " datetime.datetime(2019, 8, 23, 15, 12, 51),\n",
       " datetime.datetime(2019, 8, 26, 15, 12, 51),\n",
       " datetime.datetime(2019, 8, 27, 15, 12, 51),\n",
       " datetime.datetime(2019, 8, 28, 15, 12, 51),\n",
       " datetime.datetime(2019, 8, 29, 15, 12, 51),\n",
       " datetime.datetime(2019, 8, 30, 15, 12, 51),\n",
       " datetime.datetime(2019, 9, 2, 15, 12, 51),\n",
       " datetime.datetime(2019, 9, 3, 15, 12, 51),\n",
       " datetime.datetime(2019, 9, 4, 15, 12, 51),\n",
       " datetime.datetime(2019, 9, 5, 15, 12, 51),\n",
       " datetime.datetime(2019, 9, 6, 15, 12, 51),\n",
       " datetime.datetime(2019, 9, 9, 15, 12, 51),\n",
       " datetime.datetime(2019, 9, 10, 15, 12, 51),\n",
       " datetime.datetime(2019, 9, 11, 15, 12, 51),\n",
       " datetime.datetime(2019, 9, 12, 15, 12, 51),\n",
       " datetime.datetime(2019, 9, 13, 15, 12, 51),\n",
       " datetime.datetime(2019, 9, 16, 15, 12, 51),\n",
       " datetime.datetime(2019, 9, 17, 15, 12, 51),\n",
       " datetime.datetime(2019, 9, 18, 15, 12, 51),\n",
       " datetime.datetime(2019, 9, 19, 15, 12, 51),\n",
       " datetime.datetime(2019, 9, 20, 15, 12, 51),\n",
       " datetime.datetime(2019, 9, 23, 15, 12, 51),\n",
       " datetime.datetime(2019, 9, 24, 15, 12, 51),\n",
       " datetime.datetime(2019, 9, 25, 15, 12, 51),\n",
       " datetime.datetime(2019, 9, 26, 15, 12, 51),\n",
       " datetime.datetime(2019, 9, 27, 15, 12, 51),\n",
       " datetime.datetime(2019, 9, 30, 15, 12, 51),\n",
       " datetime.datetime(2019, 10, 1, 15, 12, 51),\n",
       " datetime.datetime(2019, 10, 2, 15, 12, 51),\n",
       " datetime.datetime(2019, 10, 3, 15, 12, 51),\n",
       " datetime.datetime(2019, 10, 4, 15, 12, 51),\n",
       " datetime.datetime(2019, 10, 7, 15, 12, 51),\n",
       " datetime.datetime(2019, 10, 8, 15, 12, 51),\n",
       " datetime.datetime(2019, 10, 9, 15, 12, 51),\n",
       " datetime.datetime(2019, 10, 10, 15, 12, 51),\n",
       " datetime.datetime(2019, 10, 11, 15, 12, 51),\n",
       " datetime.datetime(2019, 10, 14, 15, 12, 51),\n",
       " datetime.datetime(2019, 10, 15, 15, 12, 51),\n",
       " datetime.datetime(2019, 10, 16, 15, 12, 51),\n",
       " datetime.datetime(2019, 10, 17, 15, 12, 51),\n",
       " datetime.datetime(2019, 10, 18, 15, 12, 51),\n",
       " datetime.datetime(2019, 10, 21, 15, 12, 51),\n",
       " datetime.datetime(2019, 10, 22, 15, 12, 51),\n",
       " datetime.datetime(2019, 10, 23, 15, 12, 51),\n",
       " datetime.datetime(2019, 10, 24, 15, 12, 51),\n",
       " datetime.datetime(2019, 10, 25, 15, 12, 51),\n",
       " datetime.datetime(2019, 10, 28, 15, 12, 51),\n",
       " datetime.datetime(2019, 10, 29, 15, 12, 51),\n",
       " datetime.datetime(2019, 10, 30, 15, 12, 51),\n",
       " datetime.datetime(2019, 10, 31, 15, 12, 51),\n",
       " datetime.datetime(2019, 11, 1, 15, 12, 51),\n",
       " datetime.datetime(2019, 11, 4, 15, 12, 51),\n",
       " datetime.datetime(2019, 11, 5, 15, 12, 51),\n",
       " datetime.datetime(2019, 11, 6, 15, 12, 51),\n",
       " datetime.datetime(2019, 11, 7, 15, 12, 51),\n",
       " datetime.datetime(2019, 11, 8, 15, 12, 51),\n",
       " datetime.datetime(2019, 11, 11, 15, 12, 51),\n",
       " datetime.datetime(2019, 11, 12, 15, 12, 51),\n",
       " datetime.datetime(2019, 11, 13, 15, 12, 51),\n",
       " datetime.datetime(2019, 11, 14, 15, 12, 51),\n",
       " datetime.datetime(2019, 11, 15, 15, 12, 51),\n",
       " datetime.datetime(2019, 11, 18, 15, 12, 51),\n",
       " datetime.datetime(2019, 11, 19, 15, 12, 51),\n",
       " datetime.datetime(2019, 11, 20, 15, 12, 51),\n",
       " datetime.datetime(2019, 11, 21, 15, 12, 51),\n",
       " datetime.datetime(2019, 11, 22, 15, 12, 51),\n",
       " datetime.datetime(2019, 11, 25, 15, 12, 51),\n",
       " datetime.datetime(2019, 11, 26, 15, 12, 51),\n",
       " datetime.datetime(2019, 11, 27, 15, 12, 51),\n",
       " datetime.datetime(2019, 11, 28, 15, 12, 51),\n",
       " datetime.datetime(2019, 11, 29, 15, 12, 51),\n",
       " datetime.datetime(2019, 12, 2, 15, 12, 51),\n",
       " datetime.datetime(2019, 12, 3, 15, 12, 51),\n",
       " datetime.datetime(2019, 12, 4, 15, 12, 51),\n",
       " datetime.datetime(2019, 12, 5, 15, 12, 51),\n",
       " datetime.datetime(2019, 12, 6, 15, 12, 51),\n",
       " datetime.datetime(2019, 12, 9, 15, 12, 51),\n",
       " datetime.datetime(2019, 12, 10, 15, 12, 51),\n",
       " datetime.datetime(2019, 12, 11, 15, 12, 51),\n",
       " datetime.datetime(2019, 12, 12, 15, 12, 51),\n",
       " datetime.datetime(2019, 12, 13, 15, 12, 51),\n",
       " datetime.datetime(2019, 12, 16, 15, 12, 51),\n",
       " datetime.datetime(2019, 12, 17, 15, 12, 51),\n",
       " datetime.datetime(2019, 12, 18, 15, 12, 51),\n",
       " datetime.datetime(2019, 12, 19, 15, 12, 51),\n",
       " datetime.datetime(2019, 12, 20, 15, 12, 51),\n",
       " datetime.datetime(2019, 12, 23, 15, 12, 51),\n",
       " datetime.datetime(2019, 12, 24, 15, 12, 51),\n",
       " datetime.datetime(2019, 12, 25, 15, 12, 51),\n",
       " datetime.datetime(2019, 12, 26, 15, 12, 51),\n",
       " datetime.datetime(2019, 12, 27, 15, 12, 51),\n",
       " datetime.datetime(2019, 12, 30, 15, 12, 51),\n",
       " datetime.datetime(2019, 12, 31, 15, 12, 51),\n",
       " datetime.datetime(2020, 1, 1, 15, 12, 51),\n",
       " datetime.datetime(2020, 1, 2, 15, 12, 51),\n",
       " datetime.datetime(2020, 1, 3, 15, 12, 51)]"
      ]
     },
     "execution_count": 81,
     "metadata": {},
     "output_type": "execute_result"
    }
   ],
   "source": [
    "rr.between(TODAY, END)"
   ]
  },
  {
   "cell_type": "code",
   "execution_count": 83,
   "metadata": {
    "collapsed": false
   },
   "outputs": [
    {
     "data": {
      "text/plain": [
       "[Timestamp('2019-01-07 00:00:00'),\n",
       " Timestamp('2019-01-08 00:00:00'),\n",
       " Timestamp('2019-01-09 00:00:00'),\n",
       " Timestamp('2019-01-10 00:00:00'),\n",
       " Timestamp('2019-01-11 00:00:00'),\n",
       " Timestamp('2019-01-14 00:00:00'),\n",
       " Timestamp('2019-01-15 00:00:00'),\n",
       " Timestamp('2019-01-16 00:00:00'),\n",
       " Timestamp('2019-01-17 00:00:00'),\n",
       " Timestamp('2019-01-18 00:00:00'),\n",
       " Timestamp('2019-01-21 00:00:00'),\n",
       " Timestamp('2019-01-22 00:00:00'),\n",
       " Timestamp('2019-01-23 00:00:00'),\n",
       " Timestamp('2019-01-24 00:00:00'),\n",
       " Timestamp('2019-01-25 00:00:00'),\n",
       " Timestamp('2019-01-28 00:00:00'),\n",
       " Timestamp('2019-01-29 00:00:00'),\n",
       " Timestamp('2019-01-30 00:00:00'),\n",
       " Timestamp('2019-01-31 00:00:00'),\n",
       " Timestamp('2019-02-01 00:00:00'),\n",
       " Timestamp('2019-02-04 00:00:00'),\n",
       " Timestamp('2019-02-05 00:00:00'),\n",
       " Timestamp('2019-02-06 00:00:00'),\n",
       " Timestamp('2019-02-07 00:00:00'),\n",
       " Timestamp('2019-02-08 00:00:00'),\n",
       " Timestamp('2019-02-11 00:00:00'),\n",
       " Timestamp('2019-02-12 00:00:00'),\n",
       " Timestamp('2019-02-13 00:00:00'),\n",
       " Timestamp('2019-02-14 00:00:00'),\n",
       " Timestamp('2019-02-15 00:00:00'),\n",
       " Timestamp('2019-02-18 00:00:00'),\n",
       " Timestamp('2019-02-19 00:00:00'),\n",
       " Timestamp('2019-02-20 00:00:00'),\n",
       " Timestamp('2019-02-21 00:00:00'),\n",
       " Timestamp('2019-02-22 00:00:00'),\n",
       " Timestamp('2019-02-25 00:00:00'),\n",
       " Timestamp('2019-02-26 00:00:00'),\n",
       " Timestamp('2019-02-27 00:00:00'),\n",
       " Timestamp('2019-02-28 00:00:00'),\n",
       " Timestamp('2019-03-01 00:00:00'),\n",
       " Timestamp('2019-03-04 00:00:00'),\n",
       " Timestamp('2019-03-05 00:00:00'),\n",
       " Timestamp('2019-03-06 00:00:00'),\n",
       " Timestamp('2019-03-07 00:00:00'),\n",
       " Timestamp('2019-03-08 00:00:00'),\n",
       " Timestamp('2019-03-11 00:00:00'),\n",
       " Timestamp('2019-03-12 00:00:00'),\n",
       " Timestamp('2019-03-13 00:00:00'),\n",
       " Timestamp('2019-03-14 00:00:00'),\n",
       " Timestamp('2019-03-15 00:00:00'),\n",
       " Timestamp('2019-03-18 00:00:00'),\n",
       " Timestamp('2019-03-19 00:00:00'),\n",
       " Timestamp('2019-03-20 00:00:00'),\n",
       " Timestamp('2019-03-21 00:00:00'),\n",
       " Timestamp('2019-03-22 00:00:00'),\n",
       " Timestamp('2019-03-25 00:00:00'),\n",
       " Timestamp('2019-03-26 00:00:00'),\n",
       " Timestamp('2019-03-27 00:00:00'),\n",
       " Timestamp('2019-03-28 00:00:00'),\n",
       " Timestamp('2019-03-29 00:00:00'),\n",
       " Timestamp('2019-04-01 00:00:00'),\n",
       " Timestamp('2019-04-02 00:00:00'),\n",
       " Timestamp('2019-04-03 00:00:00'),\n",
       " Timestamp('2019-04-04 00:00:00'),\n",
       " Timestamp('2019-04-05 00:00:00'),\n",
       " Timestamp('2019-04-08 00:00:00'),\n",
       " Timestamp('2019-04-09 00:00:00'),\n",
       " Timestamp('2019-04-10 00:00:00'),\n",
       " Timestamp('2019-04-11 00:00:00'),\n",
       " Timestamp('2019-04-12 00:00:00'),\n",
       " Timestamp('2019-04-15 00:00:00'),\n",
       " Timestamp('2019-04-16 00:00:00'),\n",
       " Timestamp('2019-04-17 00:00:00'),\n",
       " Timestamp('2019-04-18 00:00:00'),\n",
       " Timestamp('2019-04-19 00:00:00'),\n",
       " Timestamp('2019-04-22 00:00:00'),\n",
       " Timestamp('2019-04-23 00:00:00'),\n",
       " Timestamp('2019-04-24 00:00:00'),\n",
       " Timestamp('2019-04-25 00:00:00'),\n",
       " Timestamp('2019-04-26 00:00:00'),\n",
       " Timestamp('2019-04-29 00:00:00'),\n",
       " Timestamp('2019-04-30 00:00:00'),\n",
       " Timestamp('2019-05-01 00:00:00'),\n",
       " Timestamp('2019-05-02 00:00:00'),\n",
       " Timestamp('2019-05-03 00:00:00'),\n",
       " Timestamp('2019-05-06 00:00:00'),\n",
       " Timestamp('2019-05-07 00:00:00'),\n",
       " Timestamp('2019-05-08 00:00:00'),\n",
       " Timestamp('2019-05-09 00:00:00'),\n",
       " Timestamp('2019-05-10 00:00:00'),\n",
       " Timestamp('2019-05-13 00:00:00'),\n",
       " Timestamp('2019-05-14 00:00:00'),\n",
       " Timestamp('2019-05-15 00:00:00'),\n",
       " Timestamp('2019-05-16 00:00:00'),\n",
       " Timestamp('2019-05-17 00:00:00'),\n",
       " Timestamp('2019-05-20 00:00:00'),\n",
       " Timestamp('2019-05-21 00:00:00'),\n",
       " Timestamp('2019-05-22 00:00:00'),\n",
       " Timestamp('2019-05-23 00:00:00'),\n",
       " Timestamp('2019-05-24 00:00:00'),\n",
       " Timestamp('2019-05-27 00:00:00'),\n",
       " Timestamp('2019-05-28 00:00:00'),\n",
       " Timestamp('2019-05-29 00:00:00'),\n",
       " Timestamp('2019-05-30 00:00:00'),\n",
       " Timestamp('2019-05-31 00:00:00'),\n",
       " Timestamp('2019-06-03 00:00:00'),\n",
       " Timestamp('2019-06-04 00:00:00'),\n",
       " Timestamp('2019-06-05 00:00:00'),\n",
       " Timestamp('2019-06-06 00:00:00'),\n",
       " Timestamp('2019-06-07 00:00:00'),\n",
       " Timestamp('2019-06-10 00:00:00'),\n",
       " Timestamp('2019-06-11 00:00:00'),\n",
       " Timestamp('2019-06-12 00:00:00'),\n",
       " Timestamp('2019-06-13 00:00:00'),\n",
       " Timestamp('2019-06-14 00:00:00'),\n",
       " Timestamp('2019-06-17 00:00:00'),\n",
       " Timestamp('2019-06-18 00:00:00'),\n",
       " Timestamp('2019-06-19 00:00:00'),\n",
       " Timestamp('2019-06-20 00:00:00'),\n",
       " Timestamp('2019-06-21 00:00:00'),\n",
       " Timestamp('2019-06-24 00:00:00'),\n",
       " Timestamp('2019-06-25 00:00:00'),\n",
       " Timestamp('2019-06-26 00:00:00'),\n",
       " Timestamp('2019-06-27 00:00:00'),\n",
       " Timestamp('2019-06-28 00:00:00'),\n",
       " Timestamp('2019-07-01 00:00:00'),\n",
       " Timestamp('2019-07-02 00:00:00'),\n",
       " Timestamp('2019-07-03 00:00:00'),\n",
       " Timestamp('2019-07-04 00:00:00'),\n",
       " Timestamp('2019-07-05 00:00:00'),\n",
       " Timestamp('2019-07-08 00:00:00'),\n",
       " Timestamp('2019-07-09 00:00:00'),\n",
       " Timestamp('2019-07-10 00:00:00'),\n",
       " Timestamp('2019-07-11 00:00:00'),\n",
       " Timestamp('2019-07-12 00:00:00'),\n",
       " Timestamp('2019-07-15 00:00:00'),\n",
       " Timestamp('2019-07-16 00:00:00'),\n",
       " Timestamp('2019-07-17 00:00:00'),\n",
       " Timestamp('2019-07-18 00:00:00'),\n",
       " Timestamp('2019-07-19 00:00:00'),\n",
       " Timestamp('2019-07-22 00:00:00'),\n",
       " Timestamp('2019-07-23 00:00:00'),\n",
       " Timestamp('2019-07-24 00:00:00'),\n",
       " Timestamp('2019-07-25 00:00:00'),\n",
       " Timestamp('2019-07-26 00:00:00'),\n",
       " Timestamp('2019-07-29 00:00:00'),\n",
       " Timestamp('2019-07-30 00:00:00'),\n",
       " Timestamp('2019-07-31 00:00:00'),\n",
       " Timestamp('2019-08-01 00:00:00'),\n",
       " Timestamp('2019-08-02 00:00:00'),\n",
       " Timestamp('2019-08-05 00:00:00'),\n",
       " Timestamp('2019-08-06 00:00:00'),\n",
       " Timestamp('2019-08-07 00:00:00'),\n",
       " Timestamp('2019-08-08 00:00:00'),\n",
       " Timestamp('2019-08-09 00:00:00'),\n",
       " Timestamp('2019-08-12 00:00:00'),\n",
       " Timestamp('2019-08-13 00:00:00'),\n",
       " Timestamp('2019-08-14 00:00:00'),\n",
       " Timestamp('2019-08-15 00:00:00'),\n",
       " Timestamp('2019-08-16 00:00:00'),\n",
       " Timestamp('2019-08-19 00:00:00'),\n",
       " Timestamp('2019-08-20 00:00:00'),\n",
       " Timestamp('2019-08-21 00:00:00'),\n",
       " Timestamp('2019-08-22 00:00:00'),\n",
       " Timestamp('2019-08-23 00:00:00'),\n",
       " Timestamp('2019-08-26 00:00:00'),\n",
       " Timestamp('2019-08-27 00:00:00'),\n",
       " Timestamp('2019-08-28 00:00:00'),\n",
       " Timestamp('2019-08-29 00:00:00'),\n",
       " Timestamp('2019-08-30 00:00:00'),\n",
       " Timestamp('2019-09-02 00:00:00'),\n",
       " Timestamp('2019-09-03 00:00:00'),\n",
       " Timestamp('2019-09-04 00:00:00'),\n",
       " Timestamp('2019-09-05 00:00:00'),\n",
       " Timestamp('2019-09-06 00:00:00'),\n",
       " Timestamp('2019-09-09 00:00:00'),\n",
       " Timestamp('2019-09-10 00:00:00'),\n",
       " Timestamp('2019-09-11 00:00:00'),\n",
       " Timestamp('2019-09-12 00:00:00'),\n",
       " Timestamp('2019-09-13 00:00:00'),\n",
       " Timestamp('2019-09-16 00:00:00'),\n",
       " Timestamp('2019-09-17 00:00:00'),\n",
       " Timestamp('2019-09-18 00:00:00'),\n",
       " Timestamp('2019-09-19 00:00:00'),\n",
       " Timestamp('2019-09-20 00:00:00'),\n",
       " Timestamp('2019-09-23 00:00:00'),\n",
       " Timestamp('2019-09-24 00:00:00'),\n",
       " Timestamp('2019-09-25 00:00:00'),\n",
       " Timestamp('2019-09-26 00:00:00'),\n",
       " Timestamp('2019-09-27 00:00:00'),\n",
       " Timestamp('2019-09-30 00:00:00'),\n",
       " Timestamp('2019-10-01 00:00:00'),\n",
       " Timestamp('2019-10-02 00:00:00'),\n",
       " Timestamp('2019-10-03 00:00:00'),\n",
       " Timestamp('2019-10-04 00:00:00'),\n",
       " Timestamp('2019-10-07 00:00:00'),\n",
       " Timestamp('2019-10-08 00:00:00'),\n",
       " Timestamp('2019-10-09 00:00:00'),\n",
       " Timestamp('2019-10-10 00:00:00'),\n",
       " Timestamp('2019-10-11 00:00:00'),\n",
       " Timestamp('2019-10-14 00:00:00'),\n",
       " Timestamp('2019-10-15 00:00:00'),\n",
       " Timestamp('2019-10-16 00:00:00'),\n",
       " Timestamp('2019-10-17 00:00:00'),\n",
       " Timestamp('2019-10-18 00:00:00'),\n",
       " Timestamp('2019-10-21 00:00:00'),\n",
       " Timestamp('2019-10-22 00:00:00'),\n",
       " Timestamp('2019-10-23 00:00:00'),\n",
       " Timestamp('2019-10-24 00:00:00'),\n",
       " Timestamp('2019-10-25 00:00:00'),\n",
       " Timestamp('2019-10-28 00:00:00'),\n",
       " Timestamp('2019-10-29 00:00:00'),\n",
       " Timestamp('2019-10-30 00:00:00'),\n",
       " Timestamp('2019-10-31 00:00:00'),\n",
       " Timestamp('2019-11-01 00:00:00'),\n",
       " Timestamp('2019-11-04 00:00:00'),\n",
       " Timestamp('2019-11-05 00:00:00'),\n",
       " Timestamp('2019-11-06 00:00:00'),\n",
       " Timestamp('2019-11-07 00:00:00'),\n",
       " Timestamp('2019-11-08 00:00:00'),\n",
       " Timestamp('2019-11-11 00:00:00'),\n",
       " Timestamp('2019-11-12 00:00:00'),\n",
       " Timestamp('2019-11-13 00:00:00'),\n",
       " Timestamp('2019-11-14 00:00:00'),\n",
       " Timestamp('2019-11-15 00:00:00'),\n",
       " Timestamp('2019-11-18 00:00:00'),\n",
       " Timestamp('2019-11-19 00:00:00'),\n",
       " Timestamp('2019-11-20 00:00:00'),\n",
       " Timestamp('2019-11-21 00:00:00'),\n",
       " Timestamp('2019-11-22 00:00:00'),\n",
       " Timestamp('2019-11-25 00:00:00'),\n",
       " Timestamp('2019-11-26 00:00:00'),\n",
       " Timestamp('2019-11-27 00:00:00'),\n",
       " Timestamp('2019-11-28 00:00:00'),\n",
       " Timestamp('2019-11-29 00:00:00'),\n",
       " Timestamp('2019-12-02 00:00:00'),\n",
       " Timestamp('2019-12-03 00:00:00'),\n",
       " Timestamp('2019-12-04 00:00:00'),\n",
       " Timestamp('2019-12-05 00:00:00'),\n",
       " Timestamp('2019-12-06 00:00:00'),\n",
       " Timestamp('2019-12-09 00:00:00'),\n",
       " Timestamp('2019-12-10 00:00:00'),\n",
       " Timestamp('2019-12-11 00:00:00'),\n",
       " Timestamp('2019-12-12 00:00:00'),\n",
       " Timestamp('2019-12-13 00:00:00'),\n",
       " Timestamp('2019-12-16 00:00:00'),\n",
       " Timestamp('2019-12-17 00:00:00'),\n",
       " Timestamp('2019-12-18 00:00:00'),\n",
       " Timestamp('2019-12-19 00:00:00'),\n",
       " Timestamp('2019-12-20 00:00:00'),\n",
       " Timestamp('2019-12-23 00:00:00'),\n",
       " Timestamp('2019-12-24 00:00:00'),\n",
       " Timestamp('2019-12-25 00:00:00'),\n",
       " Timestamp('2019-12-26 00:00:00'),\n",
       " Timestamp('2019-12-27 00:00:00'),\n",
       " Timestamp('2019-12-30 00:00:00'),\n",
       " Timestamp('2019-12-31 00:00:00'),\n",
       " Timestamp('2020-01-01 00:00:00'),\n",
       " Timestamp('2020-01-02 00:00:00'),\n",
       " Timestamp('2020-01-03 00:00:00')]"
      ]
     },
     "execution_count": 83,
     "metadata": {},
     "output_type": "execute_result"
    }
   ],
   "source": [
    "[pd.to_datetime(date).normalize() for date in rr.between(TODAY, END)]"
   ]
  },
  {
   "cell_type": "code",
   "execution_count": 84,
   "metadata": {
    "collapsed": true
   },
   "outputs": [],
   "source": [
    "def get_dates(frequency):\n",
    "    # let pandas try and handle single dates\n",
    "    try:\n",
    "        return [pd.Timestamp(frequency).normalize()]\n",
    "    except ValueError:\n",
    "        pass\n",
    "    \n",
    "    # parse frequency with recurrent\n",
    "    try:\n",
    "        r = RecurringEvent()\n",
    "        r.parse(frequency)\n",
    "        rr = rrule.rrulestr(r.get_RFC_rrule())\n",
    "        return [\n",
    "            pd.to_datetime(date).normalize()\n",
    "            for date in rr.between(TODAY, END)\n",
    "        ]\n",
    "    except ValueError as e:\n",
    "        raise ValueError('Invalid frequency')"
   ]
  },
  {
   "cell_type": "code",
   "execution_count": 85,
   "metadata": {
    "collapsed": false
   },
   "outputs": [
    {
     "data": {
      "text/plain": [
       "[Timestamp('2019-01-01 00:00:00')]"
      ]
     },
     "execution_count": 85,
     "metadata": {},
     "output_type": "execute_result"
    }
   ],
   "source": [
    "get_dates('2019-01-01')"
   ]
  },
  {
   "cell_type": "code",
   "execution_count": 86,
   "metadata": {
    "collapsed": false
   },
   "outputs": [
    {
     "data": {
      "text/plain": [
       "[Timestamp('2019-01-06 00:00:00'),\n",
       " Timestamp('2019-01-13 00:00:00'),\n",
       " Timestamp('2019-01-20 00:00:00'),\n",
       " Timestamp('2019-01-27 00:00:00'),\n",
       " Timestamp('2019-02-03 00:00:00'),\n",
       " Timestamp('2019-02-10 00:00:00'),\n",
       " Timestamp('2019-02-17 00:00:00'),\n",
       " Timestamp('2019-02-24 00:00:00'),\n",
       " Timestamp('2019-03-03 00:00:00'),\n",
       " Timestamp('2019-03-10 00:00:00'),\n",
       " Timestamp('2019-03-17 00:00:00'),\n",
       " Timestamp('2019-03-24 00:00:00'),\n",
       " Timestamp('2019-03-31 00:00:00'),\n",
       " Timestamp('2019-04-07 00:00:00'),\n",
       " Timestamp('2019-04-14 00:00:00'),\n",
       " Timestamp('2019-04-21 00:00:00'),\n",
       " Timestamp('2019-04-28 00:00:00'),\n",
       " Timestamp('2019-05-05 00:00:00'),\n",
       " Timestamp('2019-05-12 00:00:00'),\n",
       " Timestamp('2019-05-19 00:00:00'),\n",
       " Timestamp('2019-05-26 00:00:00'),\n",
       " Timestamp('2019-06-02 00:00:00'),\n",
       " Timestamp('2019-06-09 00:00:00'),\n",
       " Timestamp('2019-06-16 00:00:00'),\n",
       " Timestamp('2019-06-23 00:00:00'),\n",
       " Timestamp('2019-06-30 00:00:00'),\n",
       " Timestamp('2019-07-07 00:00:00')]"
      ]
     },
     "execution_count": 86,
     "metadata": {},
     "output_type": "execute_result"
    }
   ],
   "source": [
    "get_dates('every week until July 10th')"
   ]
  },
  {
   "cell_type": "code",
   "execution_count": 88,
   "metadata": {
    "collapsed": false
   },
   "outputs": [
    {
     "data": {
      "text/plain": [
       "[Timestamp('2019-01-11 00:00:00'),\n",
       " Timestamp('2019-01-12 00:00:00'),\n",
       " Timestamp('2019-01-18 00:00:00'),\n",
       " Timestamp('2019-01-19 00:00:00'),\n",
       " Timestamp('2019-01-25 00:00:00'),\n",
       " Timestamp('2019-01-26 00:00:00'),\n",
       " Timestamp('2019-02-01 00:00:00'),\n",
       " Timestamp('2019-02-02 00:00:00'),\n",
       " Timestamp('2019-02-08 00:00:00'),\n",
       " Timestamp('2019-02-09 00:00:00')]"
      ]
     },
     "execution_count": 88,
     "metadata": {},
     "output_type": "execute_result"
    }
   ],
   "source": [
    "night_out_dates = get_dates('every week on Friday and Saturday')\n",
    "night_out_dates[:10]"
   ]
  },
  {
   "cell_type": "code",
   "execution_count": 89,
   "metadata": {
    "collapsed": false
   },
   "outputs": [
    {
     "data": {
      "text/plain": [
       "0   2019-01-11\n",
       "1   2019-01-12\n",
       "2   2019-01-18\n",
       "3   2019-01-19\n",
       "4   2019-01-25\n",
       "dtype: datetime64[ns]"
      ]
     },
     "execution_count": 89,
     "metadata": {},
     "output_type": "execute_result"
    }
   ],
   "source": [
    "pd.Series(night_out_dates).head()"
   ]
  },
  {
   "cell_type": "code",
   "execution_count": 90,
   "metadata": {
    "collapsed": false
   },
   "outputs": [
    {
     "data": {
      "text/html": [
       "<div>\n",
       "<style>\n",
       "    .dataframe thead tr:only-child th {\n",
       "        text-align: right;\n",
       "    }\n",
       "\n",
       "    .dataframe thead th {\n",
       "        text-align: left;\n",
       "    }\n",
       "\n",
       "    .dataframe tbody tr th {\n",
       "        vertical-align: top;\n",
       "    }\n",
       "</style>\n",
       "<table border=\"1\" class=\"dataframe\">\n",
       "  <thead>\n",
       "    <tr style=\"text-align: right;\">\n",
       "      <th></th>\n",
       "      <th>entertainment</th>\n",
       "    </tr>\n",
       "  </thead>\n",
       "  <tbody>\n",
       "    <tr>\n",
       "      <th>2019-01-11</th>\n",
       "      <td>-40</td>\n",
       "    </tr>\n",
       "    <tr>\n",
       "      <th>2019-01-12</th>\n",
       "      <td>-40</td>\n",
       "    </tr>\n",
       "    <tr>\n",
       "      <th>2019-01-18</th>\n",
       "      <td>-40</td>\n",
       "    </tr>\n",
       "    <tr>\n",
       "      <th>2019-01-19</th>\n",
       "      <td>-40</td>\n",
       "    </tr>\n",
       "    <tr>\n",
       "      <th>2019-01-25</th>\n",
       "      <td>-40</td>\n",
       "    </tr>\n",
       "  </tbody>\n",
       "</table>\n",
       "</div>"
      ],
      "text/plain": [
       "            entertainment\n",
       "2019-01-11            -40\n",
       "2019-01-12            -40\n",
       "2019-01-18            -40\n",
       "2019-01-19            -40\n",
       "2019-01-25            -40"
      ]
     },
     "execution_count": 90,
     "metadata": {},
     "output_type": "execute_result"
    }
   ],
   "source": [
    "entertainment = pd.DataFrame(\n",
    "    data = {'entertainment': -40},\n",
    "    index = pd.DatetimeIndex(pd.Series(night_out_dates))\n",
    ")\n",
    "entertainment.head()"
   ]
  },
  {
   "cell_type": "code",
   "execution_count": 92,
   "metadata": {
    "collapsed": false
   },
   "outputs": [
    {
     "data": {
      "image/png": "[encoded data removed]",
      "text/plain": [
       "<matplotlib.figure.Figure at 0x11b0d19e8>"
      ]
     },
     "metadata": {
      "needs_background": "light"
     },
     "output_type": "display_data"
    }
   ],
   "source": [
    "calendar = pd.concat([calendar, entertainment], axis=1).fillna(0)\n",
    "calendar = update_total(calendar)\n",
    "plot_budget(calendar)"
   ]
  },
  {
   "cell_type": "code",
   "execution_count": 93,
   "metadata": {
    "collapsed": false
   },
   "outputs": [
    {
     "data": {
      "text/html": [
       "<div>\n",
       "<style>\n",
       "    .dataframe thead tr:only-child th {\n",
       "        text-align: right;\n",
       "    }\n",
       "\n",
       "    .dataframe thead th {\n",
       "        text-align: left;\n",
       "    }\n",
       "\n",
       "    .dataframe tbody tr th {\n",
       "        vertical-align: top;\n",
       "    }\n",
       "</style>\n",
       "<table border=\"1\" class=\"dataframe\">\n",
       "  <thead>\n",
       "    <tr style=\"text-align: right;\">\n",
       "      <th></th>\n",
       "      <th>income</th>\n",
       "      <th>rent</th>\n",
       "      <th>total</th>\n",
       "      <th>cum_total</th>\n",
       "      <th>bank</th>\n",
       "      <th>entertainment</th>\n",
       "    </tr>\n",
       "  </thead>\n",
       "  <tbody>\n",
       "    <tr>\n",
       "      <th>2020-01-06</th>\n",
       "      <td>0.0</td>\n",
       "      <td>0.0</td>\n",
       "      <td>0.0</td>\n",
       "      <td>3840.0</td>\n",
       "      <td>0.0</td>\n",
       "      <td>0.0</td>\n",
       "    </tr>\n",
       "  </tbody>\n",
       "</table>\n",
       "</div>"
      ],
      "text/plain": [
       "            income  rent  total  cum_total  bank  entertainment\n",
       "2020-01-06     0.0   0.0    0.0     3840.0   0.0            0.0"
      ]
     },
     "execution_count": 93,
     "metadata": {},
     "output_type": "execute_result"
    }
   ],
   "source": [
    "calendar.tail(1)"
   ]
  },
  {
   "cell_type": "markdown",
   "metadata": {},
   "source": [
    "## YAML\n",
    "Using YAML file format (similar to JSON but more readable) to make it easier for users to enter items into the calendar"
   ]
  },
  {
   "cell_type": "markdown",
   "metadata": {},
   "source": [
    "pyYAML library converts YAML into a python dictionary"
   ]
  },
  {
   "cell_type": "code",
   "execution_count": 94,
   "metadata": {
    "collapsed": true
   },
   "outputs": [],
   "source": [
    "import yaml\n",
    "\n",
    "budget = yaml.load('''\n",
    "bank:\n",
    "    frequency: today\n",
    "    amount: 2000\n",
    "income:\n",
    "    frequency: every 2 weeks on Friday\n",
    "    amount: 1000\n",
    "rent:\n",
    "    frequency: every month\n",
    "    amount: -1500\n",
    "fun:\n",
    "    frequency: every week on Friday and Sunday\n",
    "    amount: -40\n",
    "''')"
   ]
  },
  {
   "cell_type": "code",
   "execution_count": 95,
   "metadata": {
    "collapsed": false
   },
   "outputs": [
    {
     "data": {
      "text/plain": [
       "{'bank': {'amount': 2000, 'frequency': 'today'},\n",
       " 'fun': {'amount': -40, 'frequency': 'every week on Friday and Sunday'},\n",
       " 'income': {'amount': 1000, 'frequency': 'every 2 weeks on Friday'},\n",
       " 'rent': {'amount': -1500, 'frequency': 'every month'}}"
      ]
     },
     "execution_count": 95,
     "metadata": {},
     "output_type": "execute_result"
    }
   ],
   "source": [
    "budget"
   ]
  },
  {
   "cell_type": "code",
   "execution_count": 96,
   "metadata": {
    "collapsed": false
   },
   "outputs": [
    {
     "data": {
      "image/png": "[encoded data removed]",
      "text/plain": [
       "<matplotlib.figure.Figure at 0x11b575780>"
      ]
     },
     "metadata": {
      "needs_background": "light"
     },
     "output_type": "display_data"
    }
   ],
   "source": [
    "calendar = pd.DataFrame(index = pd.date_range(start=TODAY, end=END))\n",
    "\n",
    "for k, v in budget.items():\n",
    "    frequency = v.get('frequency')\n",
    "    amount = v.get('amount')\n",
    "    dates = get_dates(frequency)\n",
    "    i = pd.DataFrame(\n",
    "        data = {k: amount},\n",
    "        index = pd.DatetimeIndex(pd.Series(dates))\n",
    "    )\n",
    "    calendar = pd.concat([calendar, i], axis=1).fillna(0)\n",
    "\n",
    "calendar['total'] = calendar.sum(axis=1)\n",
    "calendar['cum_total'] = calendar['total'].cumsum()\n",
    "\n",
    "plot_budget(calendar)"
   ]
  },
  {
   "cell_type": "markdown",
   "metadata": {},
   "source": [
    "Develop function"
   ]
  },
  {
   "cell_type": "code",
   "execution_count": 100,
   "metadata": {
    "collapsed": true
   },
   "outputs": [],
   "source": [
    "def build_calendar(budget):\n",
    "    \n",
    "    calendar = pd.DataFrame(index=pd.date_range(start=TODAY, end=END))\n",
    "    \n",
    "    for k, v in budget.items():\n",
    "        frequency = v.get('frequency')\n",
    "        amount = v.get('amount')\n",
    "        dates = get_dates(frequency)\n",
    "        i = pd.DataFrame(\n",
    "            data = {k: amount},\n",
    "            index = pd.DatetimeIndex(pd.Series(dates))\n",
    "        )\n",
    "        calendar = pd.concat([calendar, i], axis=1).fillna(0)\n",
    "    \n",
    "    calendar['total'] = calendar.sum(axis=1)\n",
    "    calendar['cum_total'] = calendar['total'].cumsum()\n",
    "    \n",
    "    return calendar"
   ]
  },
  {
   "cell_type": "code",
   "execution_count": 103,
   "metadata": {
    "collapsed": true
   },
   "outputs": [],
   "source": [
    "budget = yaml.load('''\n",
    "bank:\n",
    "    frequency: today\n",
    "    amount: 2000\n",
    "income:\n",
    "    frequency: every 2 weeks on Friday\n",
    "    amount: 1000\n",
    "rent:\n",
    "    frequency: every month\n",
    "    amount: -1500\n",
    "fun:\n",
    "    frequency: every week on Friday and Saturday\n",
    "    amount: -40\n",
    "vacation:\n",
    "    frequency: 2019-08-01\n",
    "    amount: -1000\n",
    "''')"
   ]
  },
  {
   "cell_type": "code",
   "execution_count": 104,
   "metadata": {
    "collapsed": false
   },
   "outputs": [
    {
     "data": {
      "image/png": "[encoded data removed]",
      "text/plain": [
       "<matplotlib.figure.Figure at 0x11b6fe0b8>"
      ]
     },
     "metadata": {
      "needs_background": "light"
     },
     "output_type": "display_data"
    }
   ],
   "source": [
    "calendar = build_calendar(budget)\n",
    "plot_budget(calendar)"
   ]
  },
  {
   "cell_type": "code",
   "execution_count": 106,
   "metadata": {
    "collapsed": false
   },
   "outputs": [
    {
     "data": {
      "text/html": [
       "<div>\n",
       "<style>\n",
       "    .dataframe thead tr:only-child th {\n",
       "        text-align: right;\n",
       "    }\n",
       "\n",
       "    .dataframe thead th {\n",
       "        text-align: left;\n",
       "    }\n",
       "\n",
       "    .dataframe tbody tr th {\n",
       "        vertical-align: top;\n",
       "    }\n",
       "</style>\n",
       "<table border=\"1\" class=\"dataframe\">\n",
       "  <thead>\n",
       "    <tr style=\"text-align: right;\">\n",
       "      <th></th>\n",
       "      <th>bank</th>\n",
       "      <th>income</th>\n",
       "      <th>rent</th>\n",
       "      <th>fun</th>\n",
       "      <th>vacation</th>\n",
       "      <th>total</th>\n",
       "      <th>cum_total</th>\n",
       "    </tr>\n",
       "  </thead>\n",
       "  <tbody>\n",
       "    <tr>\n",
       "      <th>2020-01-02</th>\n",
       "      <td>0.0</td>\n",
       "      <td>0.0</td>\n",
       "      <td>0.0</td>\n",
       "      <td>0.0</td>\n",
       "      <td>0.0</td>\n",
       "      <td>0.0</td>\n",
       "      <td>3920.0</td>\n",
       "    </tr>\n",
       "    <tr>\n",
       "      <th>2020-01-03</th>\n",
       "      <td>0.0</td>\n",
       "      <td>1000.0</td>\n",
       "      <td>0.0</td>\n",
       "      <td>-40.0</td>\n",
       "      <td>0.0</td>\n",
       "      <td>960.0</td>\n",
       "      <td>4880.0</td>\n",
       "    </tr>\n",
       "    <tr>\n",
       "      <th>2020-01-04</th>\n",
       "      <td>0.0</td>\n",
       "      <td>0.0</td>\n",
       "      <td>0.0</td>\n",
       "      <td>-40.0</td>\n",
       "      <td>0.0</td>\n",
       "      <td>-40.0</td>\n",
       "      <td>4840.0</td>\n",
       "    </tr>\n",
       "    <tr>\n",
       "      <th>2020-01-05</th>\n",
       "      <td>0.0</td>\n",
       "      <td>0.0</td>\n",
       "      <td>0.0</td>\n",
       "      <td>0.0</td>\n",
       "      <td>0.0</td>\n",
       "      <td>0.0</td>\n",
       "      <td>4840.0</td>\n",
       "    </tr>\n",
       "    <tr>\n",
       "      <th>2020-01-06</th>\n",
       "      <td>0.0</td>\n",
       "      <td>0.0</td>\n",
       "      <td>0.0</td>\n",
       "      <td>0.0</td>\n",
       "      <td>0.0</td>\n",
       "      <td>0.0</td>\n",
       "      <td>4840.0</td>\n",
       "    </tr>\n",
       "  </tbody>\n",
       "</table>\n",
       "</div>"
      ],
      "text/plain": [
       "            bank  income  rent   fun  vacation  total  cum_total\n",
       "2020-01-02   0.0     0.0   0.0   0.0       0.0    0.0     3920.0\n",
       "2020-01-03   0.0  1000.0   0.0 -40.0       0.0  960.0     4880.0\n",
       "2020-01-04   0.0     0.0   0.0 -40.0       0.0  -40.0     4840.0\n",
       "2020-01-05   0.0     0.0   0.0   0.0       0.0    0.0     4840.0\n",
       "2020-01-06   0.0     0.0   0.0   0.0       0.0    0.0     4840.0"
      ]
     },
     "execution_count": 106,
     "metadata": {},
     "output_type": "execute_result"
    }
   ],
   "source": [
    "calendar.tail()"
   ]
  },
  {
   "cell_type": "code",
   "execution_count": 109,
   "metadata": {
    "collapsed": true
   },
   "outputs": [],
   "source": [
    "budget2 = yaml.load('''\n",
    "bank:\n",
    "    frequency: today\n",
    "    amount: 2000\n",
    "income:\n",
    "    frequency: every 2 weeks on Friday\n",
    "    amount: 1000\n",
    "rent:\n",
    "    frequency: every month\n",
    "    amount: -1500\n",
    "fun:\n",
    "    frequency: every week on Friday and Saturday\n",
    "    amount: -40\n",
    "vacation:\n",
    "    frequency: 2019-08-01\n",
    "    amount: -1000\n",
    "savings:\n",
    "    frequency: every Monday starting in August\n",
    "    amount: -50\n",
    "''')"
   ]
  },
  {
   "cell_type": "code",
   "execution_count": 110,
   "metadata": {
    "collapsed": false
   },
   "outputs": [
    {
     "data": {
      "image/png": "[encoded data removed]",
      "text/plain": [
       "<matplotlib.figure.Figure at 0x11b5e2c18>"
      ]
     },
     "metadata": {
      "needs_background": "light"
     },
     "output_type": "display_data"
    }
   ],
   "source": [
    "calendar2 = build_calendar(budget2)\n",
    "plot_budget(calendar2)"
   ]
  },
  {
   "cell_type": "markdown",
   "metadata": {},
   "source": [
    "Loading YAML from seperate file to keep inputs seperate from code"
   ]
  },
  {
   "cell_type": "code",
   "execution_count": 116,
   "metadata": {
    "collapsed": false
   },
   "outputs": [],
   "source": [
    "with open('budget.yaml', 'r') as f:\n",
    "    inputs = yaml.load(f)"
   ]
  },
  {
   "cell_type": "code",
   "execution_count": 117,
   "metadata": {
    "collapsed": false
   },
   "outputs": [
    {
     "data": {
      "image/png": "[encoded data removed]",
      "text/plain": [
       "<matplotlib.figure.Figure at 0x11b5f0ba8>"
      ]
     },
     "metadata": {
      "needs_background": "light"
     },
     "output_type": "display_data"
    }
   ],
   "source": [
    "calendar3 = build_calendar(inputs)\n",
    "plot_budget(calendar3)"
   ]
  },
  {
   "cell_type": "code",
   "execution_count": null,
   "metadata": {
    "collapsed": true
   },
   "outputs": [],
   "source": []
  }
 ],
 "metadata": {
  "anaconda-cloud": {},
  "kernelspec": {
   "display_name": "Python [py36]",
   "language": "python",
   "name": "Python [py36]"
  },
  "language_info": {
   "codemirror_mode": {
    "name": "ipython",
    "version": 3
   },
   "file_extension": ".py",
   "mimetype": "text/x-python",
   "name": "python",
   "nbconvert_exporter": "python",
   "pygments_lexer": "ipython3",
   "version": "3.6.7"
  }
 },
 "nbformat": 4,
 "nbformat_minor": 0
}
